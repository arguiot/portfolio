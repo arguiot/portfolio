{
 "cells": [
  {
   "cell_type": "markdown",
   "id": "608aed80-722c-4710-8ecc-8e8e445fca93",
   "metadata": {},
   "source": [
    "# Job file\n",
    "This job file is meant to schedule rebalancing, and long running task, do not modify."
   ]
  },
  {
   "cell_type": "code",
   "execution_count": null,
   "id": "6f0e86b3-152b-41a8-b4c1-8969dbeda938",
   "metadata": {
    "tags": []
   },
   "outputs": [
    {
     "name": "stdout",
     "output_type": "stream",
     "text": [
      "⏱️ Starting backtest\n",
      "\u001b7\u001b[?7l\u001b[1G ░░░░░░░░░░░░░░░░░░░░░░░░░░░░░░░░░░░░░░░░ 0% | ETA: 0s | 0/100\u001b[0K"
     ]
    }
   ],
   "source": [
    "!cd ~/work/backtesting-and-trading/ && /home/jovyan/.bun/bin/bun quick_comparison.mjs --rebalance 1M"
   ]
  },
  {
   "cell_type": "code",
   "execution_count": null,
   "id": "2b5b49df-a384-41fa-b654-7ef4f4d7a15d",
   "metadata": {},
   "outputs": [],
   "source": [
    "!cd ~/work/backtesting-and-trading/ && /home/jovyan/.bun/bin/bun quick_comparison.mjs --rebalance 1W"
   ]
  },
  {
   "cell_type": "code",
   "execution_count": null,
   "id": "4ca8ef7b-151e-48b4-9bf2-f4944beeae2e",
   "metadata": {},
   "outputs": [],
   "source": [
    "!cd ~/work/backtesting-and-trading/ && /home/jovyan/.bun/bin/bun quick_comparison.mjs --rebalance 1D"
   ]
  }
 ],
 "metadata": {
  "kernelspec": {
   "display_name": "Python 3 (ipykernel)",
   "language": "python",
   "name": "python3"
  },
  "language_info": {
   "codemirror_mode": {
    "name": "ipython",
    "version": 3
   },
   "file_extension": ".py",
   "mimetype": "text/x-python",
   "name": "python",
   "nbconvert_exporter": "python",
   "pygments_lexer": "ipython3",
   "version": "3.11.6"
  }
 },
 "nbformat": 4,
 "nbformat_minor": 5
}
