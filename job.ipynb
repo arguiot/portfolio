{
 "cells": [
  {
   "attachments": {},
   "cell_type": "markdown",
   "id": "608aed80-722c-4710-8ecc-8e8e445fca93",
   "metadata": {},
   "source": [
    "# Job file\n",
    "This job file is meant to schedule rebalancing, and long running task, do not modify."
   ]
  },
  {
   "cell_type": "code",
   "execution_count": 2,
   "id": "6f0e86b3-152b-41a8-b4c1-8969dbeda938",
   "metadata": {
    "tags": []
   },
   "outputs": [
    {
     "name": "stdout",
     "output_type": "stream",
     "text": [
      "#                                                                          1.8%^C\n",
      "⏱️ Starting backtest\n",
      "\u001b7\u001b[?7l\u001b[1G ░░░░░░░░░░░░░░░░░░░░░░░░░░░░░░░░░░░░░░░░ 0% | ETA: 0s | 0/100\u001b[0K\u001b[1G ░░░░░░░░░░░░░░░░░░░░░░░░░░░░░░░░░░░░░░░░ 0% | ETA: INFs | 0/100\u001b[0K\u001b[1G ████████████████████████████████████████ 100% | ETA: NULLs | 0/0\u001b[0K\u001b[1G ░░░░░░░░░░░░░░░░░░░░░░░░░░░░░░░░░░░░░░░░ 0% | ETA: NULLs | 0/3\u001b[0K\u001b[1G ░░░░░░░░░░░░░░░░░░░░░░░░░░░░░░░░░░░░░░░░ 0% | ETA: INFs | 0/3\u001b[0K\u001b[1G ░░░░░░░░░░░░░░░░░░░░░░░░░░░░░░░░░░░░░░░░ 0% | ETA: INFs | 0/6\u001b[0K"
     ]
    },
    {
     "ename": "",
     "evalue": "",
     "output_type": "error",
     "traceback": [
      "\u001b[1;31mImpossible d’exécuter le code ; la session a été supprimée. Essayez de redémarrer le noyau."
     ]
    },
    {
     "ename": "",
     "evalue": "",
     "output_type": "error",
     "traceback": [
      "\u001b[1;31mLe Kernel s’est bloqué lors de l’exécution du code dans la cellule active ou une cellule précédente. Veuillez vérifier le code dans la ou les cellules pour identifier une cause possible de l’échec. Cliquez <a href='https://aka.ms/vscodeJupyterKernelCrash'>ici</a> pour plus d’informations. Pour plus d’informations, consultez Jupyter <a href='command:jupyter.viewOutput'>log</a>."
     ]
    }
   ],
   "source": [
    "!bun quick_comparison.mjs --rebalance 1M"
   ]
  },
  {
   "cell_type": "code",
   "execution_count": null,
   "id": "2b5b49df-a384-41fa-b654-7ef4f4d7a15d",
   "metadata": {},
   "outputs": [],
   "source": [
    "!bun quick_comparison.mjs --rebalance 1W"
   ]
  },
  {
   "cell_type": "code",
   "execution_count": null,
   "id": "4ca8ef7b-151e-48b4-9bf2-f4944beeae2e",
   "metadata": {},
   "outputs": [],
   "source": [
    "!bun quick_comparison.mjs --rebalance 1D"
   ]
  }
 ],
 "metadata": {
  "kernelspec": {
   "display_name": "Python 3 (ipykernel)",
   "language": "python",
   "name": "python3"
  },
  "language_info": {
   "codemirror_mode": {
    "name": "ipython",
    "version": 3
   },
   "file_extension": ".py",
   "mimetype": "text/x-python",
   "name": "python",
   "nbconvert_exporter": "python",
   "pygments_lexer": "ipython3",
   "version": "3.10.13"
  }
 },
 "nbformat": 4,
 "nbformat_minor": 5
}
