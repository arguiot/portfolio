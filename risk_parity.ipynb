{
 "cells": [
  {
   "attachments": {},
   "cell_type": "markdown",
   "metadata": {},
   "source": [
    "# Fast Risk Parity Prototyping\n",
    "This notebook aims to provide a straightforward and simpler access to the risk parity portfolio construction. The main idea is to provide a simple and fast way to prototype risk parity portfolios. Most of the code is inspired by `run_backtest.py`, which is considered the entry point of this package."
   ]
  },
  {
   "cell_type": "code",
   "execution_count": 1,
   "metadata": {},
   "outputs": [],
   "source": [
    "from portfolio_optimization.data_processing import *\n",
    "from portfolio_optimization.data_collection import *\n",
    "from tokens.get_assets import *\n",
    "import numpy as np\n",
    "from portfolio_optimization.optimization.risk_parity import RiskParity\n",
    "\n",
    "from portfolio_optimization.portfolio.Portfolio import Portfolio\n",
    "from portfolio_optimization.backtesting.Backtesting import Backtest\n",
    "from datetime import timedelta\n",
    "from dateutil.relativedelta import relativedelta"
   ]
  },
  {
   "cell_type": "code",
   "execution_count": 2,
   "metadata": {},
   "outputs": [
    {
     "name": "stdout",
     "output_type": "stream",
     "text": [
      "High risk tickers: 12\n",
      "Medium risk tickers: 60\n",
      "Low risk tickers: 8\n"
     ]
    }
   ],
   "source": [
    "# Choose the asset class and the assets\n",
    "asset_list = get_tickers()\n",
    "asset_class = \"high_risk_tickers\""
   ]
  },
  {
   "cell_type": "code",
   "execution_count": 3,
   "metadata": {},
   "outputs": [
    {
     "name": "stderr",
     "output_type": "stream",
     "text": [
      "/Users/arguiot/Developer/Pyratz/portfolio/portfolio_optimization/data_collection/get_crypto_price_range.py:41: DtypeWarning: Columns (146) have mixed types. Specify dtype option on import or set low_memory=False.\n",
      "  df = pd.read_csv(file)\n",
      "/var/folders/d2/1qh2h9ys19z3375prb_0cb8w0000gn/T/ipykernel_22317/3686626402.py:14: SettingWithCopyWarning: \n",
      "A value is trying to be set on a copy of a slice from a DataFrame\n",
      "\n",
      "See the caveats in the documentation: https://pandas.pydata.org/pandas-docs/stable/user_guide/indexing.html#returning-a-view-versus-a-copy\n",
      "  mcaps.replace(np.nan, 0, inplace=True)\n"
     ]
    }
   ],
   "source": [
    "# Data processing\n",
    "_df = get_historical_prices_for_assets(\n",
    "    asset_list[asset_class],\n",
    "    time_range=timedelta(days=365 * 1 + 120),  # 1 years\n",
    "    interested_columns=[\"ReferenceRate\", \"CapMrktEstUSD\"],\n",
    ")\n",
    "\n",
    "# Filter out all columns containing `_` in their name\n",
    "df = _df.loc[:, ~_df.columns.str.contains(\"_\")]\n",
    "\n",
    "# Get all the market caps\n",
    "mcaps = _df.loc[:, _df.columns.str.contains(\"CapMrktEstUSD\")]\n",
    "mcaps.columns = mcaps.columns.str.replace(\"_CapMrktEstUSD\", \"\")\n",
    "mcaps.replace(np.nan, 0, inplace=True)\n",
    "\n",
    "start_date_portfolio = df.index[0] + relativedelta(days=120)"
   ]
  },
  {
   "attachments": {},
   "cell_type": "markdown",
   "metadata": {},
   "source": [
    "## Setting up the backtesting parameters"
   ]
  },
  {
   "cell_type": "code",
   "execution_count": 4,
   "metadata": {},
   "outputs": [],
   "source": [
    "initial_bid = 1000 # We start with 1000 USD\n",
    "\n",
    "max_weight = {\"*\": 1.0} # Can be: {'*': 1.0} or {'*': 0.5, 'BTC': 0.15}\n",
    "\n",
    "min_weight = { '*': 0.0} # Can be: {'*': 0.0} or {'*': 0.5, 'BTC': 0.05}\n",
    "\n",
    "budget = {} # Can be: {'uni': 1.2} for extra 20% for UNI\n",
    "\n",
    "yield_data = pd.Series()\n",
    "for asset in asset_list[asset_class]:\n",
    "    yield_data[asset] = 0.075\n",
    "\n",
    "weight_threshold = 0.01\n",
    "\n",
    "lambda_var = 0.1\n",
    "lambda_u = 0.1\n",
    "\n",
    "rebalance_frequency = \"1W\"\n",
    "adjust_holdings = True # Wether to adjust the holdings daily to obtain the target weights"
   ]
  },
  {
   "attachments": {},
   "cell_type": "markdown",
   "metadata": {},
   "source": [
    "## Portfolio Construction & backtesting\n",
    "We build the portfolio for backtesting"
   ]
  },
  {
   "cell_type": "code",
   "execution_count": 5,
   "metadata": {},
   "outputs": [],
   "source": [
    "portfolio_parity = Portfolio(\n",
    "    base_value=initial_bid,\n",
    "    initial_prices=df.loc[:start_date_portfolio],\n",
    "    optimiser=RiskParity,\n",
    "    max_weight=max_weight,\n",
    "    min_weight=min_weight,\n",
    "    weight_threshold=weight_threshold,\n",
    "    budget=budget,\n",
    "    lambda_var=lambda_var,\n",
    "    lambda_u=lambda_u,\n",
    ")\n",
    "\n",
    "backtest = Backtest(\n",
    "    portfolios={\n",
    "        \"Risk Parity\": portfolio_parity,\n",
    "    },\n",
    "    start_date=start_date_portfolio,\n",
    "    end_date=df.index[-1],\n",
    "    rebalance_frequency=rebalance_frequency,\n",
    "    adjust_holdings=adjust_holdings,\n",
    "    data=df,\n",
    "    mcaps=mcaps,\n",
    "    asset_class=asset_class,\n",
    ")"
   ]
  },
  {
   "attachments": {},
   "cell_type": "markdown",
   "metadata": {},
   "source": [
    "#### Saving the data"
   ]
  },
  {
   "cell_type": "code",
   "execution_count": 6,
   "metadata": {},
   "outputs": [
    {
     "name": "stderr",
     "output_type": "stream",
     "text": [
      "/Users/arguiot/Developer/Pyratz/portfolio/portfolio_optimization/backtesting/Backtesting.py:290: SettingWithCopyWarning: \n",
      "A value is trying to be set on a copy of a slice from a DataFrame.\n",
      "Try using .loc[row_indexer,col_indexer] = value instead\n",
      "\n",
      "See the caveats in the documentation: https://pandas.pydata.org/pandas-docs/stable/user_guide/indexing.html#returning-a-view-versus-a-copy\n",
      "  value[\"Daily Return\"] = daily_return\n"
     ]
    },
    {
     "ename": "",
     "evalue": "",
     "output_type": "error",
     "traceback": [
      "\u001b[1;31mLe Kernel s’est bloqué lors de l’exécution du code dans la cellule active ou une cellule précédente. Veuillez vérifier le code dans la ou les cellules pour identifier une cause possible de l’échec. Cliquez <a href='https://aka.ms/vscodeJupyterKernelCrash'>ici</a> pour plus d’informations. Pour plus d’informations, consultez Jupyter <a href='command:jupyter.viewOutput'>log</a>."
     ]
    }
   ],
   "source": [
    "perfs = backtest.run_backtest(\n",
    "    look_back_period=120,\n",
    "    look_back_unit=\"D\",\n",
    "    yield_data=yield_data,\n",
    ")\n",
    "\n",
    "# Check if the directory exists, if not, create it\n",
    "if not os.path.exists(f\"./out/{rebalance_frequency}_parity/\"):\n",
    "    os.makedirs(f\"./out/{rebalance_frequency}_parity/\")\n",
    "\n",
    "backtest.export_results(\n",
    "    perfs, f\"./out/{rebalance_frequency}_parity/\", f\"backtest_results_{asset_class}.xlsx\"\n",
    ")"
   ]
  }
 ],
 "metadata": {
  "kernelspec": {
   "display_name": "env",
   "language": "python",
   "name": "python3"
  },
  "language_info": {
   "codemirror_mode": {
    "name": "ipython",
    "version": 3
   },
   "file_extension": ".py",
   "mimetype": "text/x-python",
   "name": "python",
   "nbconvert_exporter": "python",
   "pygments_lexer": "ipython3",
   "version": "3.10.13"
  },
  "orig_nbformat": 4
 },
 "nbformat": 4,
 "nbformat_minor": 2
}
