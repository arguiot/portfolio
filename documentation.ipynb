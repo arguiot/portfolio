{
 "cells": [
  {
   "attachments": {},
   "cell_type": "markdown",
   "metadata": {},
   "source": [
    "# Portfolio Optimization\n",
    "The portfolio optimization module is a collection of functions that can be used to optimize a portfolio of assets. The module contains functions to calculate the efficient frontier, the optimal portfolio, the return of the optimal portfolio and more.\n",
    "\n",
    "Prototyping and experimenting with this module should be easy and fun. The documentation is therefore written in the form of a tutorial with examples."
   ]
  },
  {
   "attachments": {},
   "cell_type": "markdown",
   "metadata": {},
   "source": [
    "### Modules\n",
    "The portfolio optimization module consists of the following modules:\n",
    "- **data_processing**: This module contains functions to process data. For example, it contains functions to calculate the expected returns and the covariance matrix of a portfolio.\n",
    "- **data_collection**: This module contains functions to collect data. For example, it contains functions to collect price data from CoinMetrics.\n",
    "- **optimization**: This module contains functions to optimize a portfolio. For example, it contains functions to calculate the efficient frontier and the optimal portfolio.\n",
    "- **portfolio**: This module contains objects to represent a portfolio. This is mainly used to store and rebalance a portfolio.\n",
    "- **backtesting**: This module contains functions to backtest a portfolio."
   ]
  },
  {
   "cell_type": "code",
   "execution_count": 1,
   "metadata": {},
   "outputs": [],
   "source": [
    "# Importing data processing modules, such as expected returns.\n",
    "from portfolio_optimization.data_processing import *\n",
    "# Importing data collection modules, such as getting assets.\n",
    "from portfolio_optimization.data_collection import *\n",
    "# Importing optimization modules, such as the optimizer. This is the main module for generating portfolios.\n",
    "from portfolio_optimization.optimization import *\n",
    "# Importing portfolio modules, such as the portfolio class. This is the main module for using optimizers\n",
    "from portfolio_optimization.portfolio import *\n",
    "# Importing backtesting modules, such as the backtester. This is the main module for backtesting portfolios.\n",
    "from portfolio_optimization.backtesting import *\n",
    "\n",
    "\n",
    "## Note: The following imports are for the documentation only\n",
    "from tokens.get_assets import *\n",
    "import numpy as np\n",
    "import pandas as pd\n",
    "from datetime import timedelta\n",
    "from dateutil.relativedelta import relativedelta"
   ]
  },
  {
   "attachments": {},
   "cell_type": "markdown",
   "metadata": {},
   "source": [
    "## Data Collection\n",
    "The first step is to collect data. The data collection module contains functions to collect data from CoinMetrics. The data is fetched as a git repository and stored in a local directory. The data is then read of the CSV files in this directory (in our case the `data` directory). The raw data is converted to a Pandas DataFrame returned by `get_historical_prices_for_assets`. Since the data is containing a lot of information, we will only use the `ReferenceRate` and `CapMrktEstUSD` columns. The `ReferenceRate` column contains the price of the asset and the `CapMrktEstUSD` column contains the market cap of the asset. The market cap is used to calculate the weights of the assets in the black litterman portfolio."
   ]
  },
  {
   "cell_type": "code",
   "execution_count": 2,
   "metadata": {},
   "outputs": [
    {
     "name": "stdout",
     "output_type": "stream",
     "text": [
      "High risk tickers: 12\n",
      "Medium risk tickers: 60\n",
      "Low risk tickers: 8\n"
     ]
    },
    {
     "name": "stderr",
     "output_type": "stream",
     "text": [
      "/Users/arguiot/Developer/Pyratz/portfolio/portfolio_optimization/data_collection/get_crypto_price_range.py:41: DtypeWarning: Columns (146) have mixed types. Specify dtype option on import or set low_memory=False.\n",
      "  df = pd.read_csv(file)\n"
     ]
    }
   ],
   "source": [
    "# Choose the asset class and the assets\n",
    "asset_list = get_tickers()\n",
    "asset_class = \"high_risk_tickers\"\n",
    "\n",
    "_df = get_historical_prices_for_assets(\n",
    "    asset_list[asset_class],\n",
    "    time_range=timedelta(days=365 * 1 + 120),  # 1 years\n",
    "    interested_columns=[\"ReferenceRate\", \"CapMrktEstUSD\"],\n",
    ")"
   ]
  },
  {
   "attachments": {},
   "cell_type": "markdown",
   "metadata": {},
   "source": [
    "## Data Processing\n",
    "The data processing module is an internal module that is not going to be used by the frontend (Manager), here this is just some quick data cleaning for the notebook."
   ]
  },
  {
   "cell_type": "code",
   "execution_count": 3,
   "metadata": {},
   "outputs": [
    {
     "name": "stderr",
     "output_type": "stream",
     "text": [
      "/var/folders/d2/1qh2h9ys19z3375prb_0cb8w0000gn/T/ipykernel_23799/3818043710.py:7: SettingWithCopyWarning: \n",
      "A value is trying to be set on a copy of a slice from a DataFrame\n",
      "\n",
      "See the caveats in the documentation: https://pandas.pydata.org/pandas-docs/stable/user_guide/indexing.html#returning-a-view-versus-a-copy\n",
      "  mcaps.replace(np.nan, 0, inplace=True)\n"
     ]
    }
   ],
   "source": [
    "# Filter out all columns containing `_` in their name\n",
    "df = _df.loc[:, ~_df.columns.str.contains(\"_\")]\n",
    "\n",
    "# Get all the market caps\n",
    "mcaps = _df.loc[:, _df.columns.str.contains(\"CapMrktEstUSD\")]\n",
    "mcaps.columns = mcaps.columns.str.replace(\"_CapMrktEstUSD\", \"\")\n",
    "mcaps.replace(np.nan, 0, inplace=True)\n",
    "\n",
    "start_date_portfolio = df.index[0] + relativedelta(days=120)"
   ]
  },
  {
   "attachments": {},
   "cell_type": "markdown",
   "metadata": {},
   "source": [
    "## Delegates & Data pipelines\n",
    "`Portfolio` and `Optimization` modules were designed with pipeline architecture in mind. That means that some steps in each process can be delegated to external logic.\n",
    "\n",
    "### Optimization\n",
    "Delegating for an `GeneralOptimization` class is easy. You just need to extend `GeneralOptimizationDelegate`:"
   ]
  },
  {
   "cell_type": "code",
   "execution_count": 4,
   "metadata": {},
   "outputs": [],
   "source": [
    "class CustomMarkowitzDelegate(GeneralOptimizationDelegate):\n",
    "    def setup(self, optimization_object: Markowitz):\n",
    "        print(\"Setting up the Markowitz object\")\n",
    "        optimization_object.mode = optimization_object.CovMode.LEDOIT_WOLF # See CovMode on the Markowitz class for more options\n",
    "        optimization_object.efficient_portfolio = (\n",
    "            optimization_object.EfficientPortfolio.MAX_SHARPE # See EfficientPortfolio on the Markowitz class for more options\n",
    "        )\n",
    "\n",
    "        # Now we need to set the expected returns and the covariance matrix\n",
    "        if optimization_object.cov_matrix is None:\n",
    "            optimization_object.cov_matrix = optimization_object.get_cov_matrix()\n",
    "\n",
    "        optimization_object.rets = expected_returns.mean_historical_return(\n",
    "            optimization_object.df\n",
    "        )\n",
    "\n",
    "        return super().setup(optimization_object) # Setup can be cascaded"
   ]
  },
  {
   "attachments": {},
   "cell_type": "markdown",
   "metadata": {},
   "source": [
    "### Portfolio\n",
    "Delegating for an `Portfolio` class is super powerful for custom rebalancing logic. You just need to extend `PortfolioDelegate`:"
   ]
  },
  {
   "cell_type": "code",
   "execution_count": 5,
   "metadata": {},
   "outputs": [],
   "source": [
    "class OptRebalancingPortfolioDelegate(PortfolioDelegate):\n",
    "    def rebalance(\n",
    "        self, holdings: pd.Series, prices: pd.Series, target_weights: pd.Series\n",
    "    ) -> pd.Series:\n",
    "        diff = optimize_trades(\n",
    "            holdings=holdings,\n",
    "            new_target_weights=target_weights,\n",
    "            prices=prices,\n",
    "            min_W=0.0,\n",
    "            max_W=1.0,\n",
    "            external_movement=0,\n",
    "        )\n",
    "\n",
    "        new_holdings = pd.Series(diff, index=holdings.index) + holdings\n",
    "        return new_holdings"
   ]
  },
  {
   "attachments": {},
   "cell_type": "markdown",
   "metadata": {},
   "source": [
    "## Setting up the backtesting parameters\n",
    "Backtesting plays a central role in this package. Various parameters can be set to customize the backtesting process. The following parameters can be set:"
   ]
  },
  {
   "cell_type": "code",
   "execution_count": 6,
   "metadata": {},
   "outputs": [],
   "source": [
    "initial_bid = 1000 # We start with 1000 USD\n",
    "\n",
    "max_weight = {\"*\": 1.0} # Can be: {'*': 1.0} or {'*': 0.5, 'BTC': 0.15}\n",
    "\n",
    "min_weight = { '*': 0.0} # Can be: {'*': 0.0} or {'*': 0.5, 'BTC': 0.05}\n",
    "\n",
    "budget = {} # Can be: {'uni': 1.2} for extra 20% for UNI\n",
    "\n",
    "yield_data = pd.Series()\n",
    "for asset in asset_list[asset_class]:\n",
    "    yield_data[asset] = 0.075\n",
    "\n",
    "\n",
    "lambda_var = 0.1\n",
    "lambda_u = 0.1\n",
    "\n",
    "rebalance_frequency = \"1W\"\n",
    "adjust_holdings = True # Wether to adjust the holdings daily to obtain the target weights"
   ]
  },
  {
   "attachments": {},
   "cell_type": "markdown",
   "metadata": {},
   "source": [
    "## Portfolio Construction & backtesting\n",
    "Constructing a portfolio is done by using the `Portfolio` class. The `Portfolio` class is initialized with the following parameters:\n",
    "- **base_value**: The base value of the portfolio. This is the value of the portfolio at the start of the backtesting period.\n",
    "- **initial_prices**: The initial prices of the assets in the portfolio. This is used to calculate the initial weights of the assets in the portfolio.\n",
    "- **optimiser**: The chosen optimiser. Make sure to `bind` the delegate to the optimiser.\n",
    "- **max_weight**: The maximum weight of an asset in the portfolio. This is used to set the bounds of the optimisation problem.\n",
    "- **min_weight**: The minimum weight of an asset in the portfolio. This is used to set the bounds of the optimisation problem.\n",
    "- **budget**: The budget of the portfolio. This is used with `RiskParity`\n",
    "- **lambda_var**: The variance risk budgeting lambda parameter. This is used with `RiskParity`\n",
    "- **lambda_mean**: The mean risk budgeting lambda parameter. This is used with `RiskParity`\n",
    "\n",
    "\n",
    "The `Backtesting` object can be constructed as follows, where all the `Portfolio` parameters are passed as a dictionary."
   ]
  },
  {
   "cell_type": "code",
   "execution_count": 7,
   "metadata": {},
   "outputs": [
    {
     "name": "stdout",
     "output_type": "stream",
     "text": [
      "Setting up the Markowitz object\n"
     ]
    }
   ],
   "source": [
    "portfolio_markowitz = Portfolio(\n",
    "    base_value=initial_bid,\n",
    "    initial_prices=df.loc[:start_date_portfolio],\n",
    "    optimiser=Markowitz.bind(CustomMarkowitzDelegate()),\n",
    "    max_weight=max_weight,\n",
    "    min_weight=min_weight,\n",
    "    budget=budget,\n",
    "    lambda_var=lambda_var,\n",
    "    lambda_u=lambda_u,\n",
    ")\n",
    "\n",
    "portfolio_markowitz.delegate = OptRebalancingPortfolioDelegate() # We can set a delegate to the portfolio\n",
    "\n",
    "backtest = Backtest(\n",
    "    portfolios={\n",
    "        \"Markowitz\": portfolio_markowitz,\n",
    "    },\n",
    "    start_date=start_date_portfolio,\n",
    "    end_date=df.index[-1],\n",
    "    rebalance_frequency=rebalance_frequency,\n",
    "    adjust_holdings=adjust_holdings,\n",
    "    data=df,\n",
    "    mcaps=mcaps,\n",
    "    asset_class=asset_class,\n",
    ")"
   ]
  },
  {
   "attachments": {},
   "cell_type": "markdown",
   "metadata": {},
   "source": [
    "#### Running the backtest and Saving the data\n",
    "Running the backtest is done by calling the `run_backtest` method. This method takes the following parameters:\n",
    "- **look_back_period**: A number of \"unit\" to look back at every rebalancing\n",
    "- **look_back_unit**: The unit of the look back period. This can be `D` for days, `W` for weeks, `M` for months or `Y` for years.\n",
    "- **yield_data**: A `pd.Series` containing the yield of the portfolio. This is APR."
   ]
  },
  {
   "cell_type": "code",
   "execution_count": 8,
   "metadata": {},
   "outputs": [
    {
     "name": "stdout",
     "output_type": "stream",
     "text": [
      "Setting up the Markowitz object\n",
      "[ 8.42804879e-05  6.11319634e-10  1.10805536e-08  2.83656939e-06\n",
      " -4.39028204e-05  4.51228550e-07  1.03043184e-08  9.67672393e-09\n",
      "  1.25009489e-07 -4.39272839e-05  4.80326124e-08  2.67233043e-08]\n",
      "optimal_inaccurate\n",
      "Setting up the Markowitz object\n"
     ]
    },
    {
     "name": "stderr",
     "output_type": "stream",
     "text": [
      "/Users/arguiot/Developer/Pyratz/portfolio/env/lib/python3.10/site-packages/cvxpy/problems/problem.py:1387: UserWarning: Solution may be inaccurate. Try another solver, adjusting the solver settings, or solve with verbose=True for more information.\n",
      "  warnings.warn(\n",
      "/Users/arguiot/Developer/Pyratz/portfolio/env/lib/python3.10/site-packages/pypfopt/efficient_frontier/efficient_frontier.py:441: UserWarning: The risk_free_rate provided to portfolio_performance is different to the one used by max_sharpe. Using the previous value.\n",
      "  warnings.warn(\n",
      "/Users/arguiot/Developer/Pyratz/portfolio/env/lib/python3.10/site-packages/cvxpy/problems/problem.py:1387: UserWarning: Solution may be inaccurate. Try another solver, adjusting the solver settings, or solve with verbose=True for more information.\n",
      "  warnings.warn(\n",
      "/Users/arguiot/Developer/Pyratz/portfolio/env/lib/python3.10/site-packages/pypfopt/efficient_frontier/efficient_frontier.py:441: UserWarning: The risk_free_rate provided to portfolio_performance is different to the one used by max_sharpe. Using the previous value.\n",
      "  warnings.warn(\n",
      "/Users/arguiot/Developer/Pyratz/portfolio/env/lib/python3.10/site-packages/pypfopt/efficient_frontier/efficient_frontier.py:441: UserWarning: The risk_free_rate provided to portfolio_performance is different to the one used by max_sharpe. Using the previous value.\n",
      "  warnings.warn(\n"
     ]
    },
    {
     "name": "stdout",
     "output_type": "stream",
     "text": [
      "[ 1.86437879e-05  1.27526595e-10  2.59050339e-09  5.11735130e-07\n",
      " -9.65777992e-06  1.05406269e-07  2.29345639e-09  2.09795990e-09\n",
      "  2.88264708e-08 -9.66230761e-06  1.09990869e-08  5.86429923e-09]\n",
      "optimal_inaccurate\n",
      "Setting up the Markowitz object\n",
      "[-4.52225703e-12 -9.13333814e-17 -1.68278180e-15 -3.37594631e-13\n",
      " -8.51066601e-06  8.51067542e-06 -1.49408143e-15 -1.55453642e-15\n",
      " -1.55553173e-14 -2.52337929e-16 -3.93569936e-15 -3.52368610e-15]\n",
      "optimal\n"
     ]
    },
    {
     "name": "stdout",
     "output_type": "stream",
     "text": [
      "Setting up the Markowitz object\n",
      "[-4.79596098e-12 -9.42984884e-17 -1.76663567e-15 -3.50046902e-13\n",
      " -8.12740214e-06  8.12741211e-06 -1.65589152e-15 -1.60764622e-15\n",
      " -1.68327291e-14 -2.51626499e-16 -3.69226778e-15 -3.70034651e-15]\n",
      "optimal\n",
      "Setting up the Markowitz object\n",
      "[-2.15963585e-12 -4.11416142e-17 -9.37715878e-16 -1.58187530e-13\n",
      " -4.65483396e-06  4.65483845e-06 -7.10130115e-16 -6.95492249e-16\n",
      " -8.08670235e-15 -1.11082585e-16 -1.85905139e-15 -1.67268399e-15]\n",
      "optimal\n",
      "Setting up the Markowitz object\n"
     ]
    },
    {
     "name": "stderr",
     "output_type": "stream",
     "text": [
      "/Users/arguiot/Developer/Pyratz/portfolio/env/lib/python3.10/site-packages/pypfopt/efficient_frontier/efficient_frontier.py:441: UserWarning: The risk_free_rate provided to portfolio_performance is different to the one used by max_sharpe. Using the previous value.\n",
      "  warnings.warn(\n",
      "/Users/arguiot/Developer/Pyratz/portfolio/env/lib/python3.10/site-packages/pypfopt/efficient_frontier/efficient_frontier.py:441: UserWarning: The risk_free_rate provided to portfolio_performance is different to the one used by max_sharpe. Using the previous value.\n",
      "  warnings.warn(\n",
      "/Users/arguiot/Developer/Pyratz/portfolio/env/lib/python3.10/site-packages/pypfopt/efficient_frontier/efficient_frontier.py:441: UserWarning: The risk_free_rate provided to portfolio_performance is different to the one used by max_sharpe. Using the previous value.\n",
      "  warnings.warn(\n",
      "/Users/arguiot/Developer/Pyratz/portfolio/env/lib/python3.10/site-packages/pypfopt/efficient_frontier/efficient_frontier.py:441: UserWarning: The risk_free_rate provided to portfolio_performance is different to the one used by max_sharpe. Using the previous value.\n",
      "  warnings.warn(\n"
     ]
    },
    {
     "name": "stdout",
     "output_type": "stream",
     "text": [
      "[-4.17771703e-12 -7.89122003e-17 -1.79065412e-15 -3.06769700e-13\n",
      " -7.34143459e-06  7.34144328e-06 -1.50600762e-15 -1.35966581e-15\n",
      " -1.55254166e-14 -2.23163901e-16 -3.28791651e-15 -3.32273549e-15]\n",
      "optimal\n",
      "Setting up the Markowitz object\n",
      "[-4.10584818e-12 -7.49007690e-17 -1.64222481e-15 -3.03731787e-13\n",
      " -7.02643775e-06  7.02644629e-06 -1.45682464e-15 -1.26335268e-15\n",
      " -1.47090953e-14 -2.17807686e-16 -3.25470035e-15 -3.23098271e-15]\n",
      "optimal\n",
      "Setting up the Markowitz object\n",
      "[ 1.44277468e-05 -7.84406889e-17 -1.76900753e-15 -3.48575295e-13\n",
      "  1.20955055e-05 -7.09727489e-14 -1.58384171e-15 -1.38230485e-15\n",
      " -1.63099174e-14 -1.65232469e-05 -3.66744465e-15 -3.50837156e-15]\n",
      "optimal\n",
      "Setting up the Markowitz object\n",
      "[-8.22906444e-05 -4.95682162e-08 -1.12191028e-06  8.15545433e-06\n",
      " -1.09685649e-04 -8.21725119e-05 -9.88701764e-07 -8.47978755e-07\n",
      " -8.91175243e-06  2.95469057e-04 -2.13307549e-06 -2.17310448e-06]\n",
      "optimal\n",
      "Setting up the Markowitz object\n"
     ]
    },
    {
     "name": "stderr",
     "output_type": "stream",
     "text": [
      "/Users/arguiot/Developer/Pyratz/portfolio/env/lib/python3.10/site-packages/pypfopt/efficient_frontier/efficient_frontier.py:441: UserWarning: The risk_free_rate provided to portfolio_performance is different to the one used by max_sharpe. Using the previous value.\n",
      "  warnings.warn(\n",
      "/Users/arguiot/Developer/Pyratz/portfolio/env/lib/python3.10/site-packages/pypfopt/efficient_frontier/efficient_frontier.py:441: UserWarning: The risk_free_rate provided to portfolio_performance is different to the one used by max_sharpe. Using the previous value.\n",
      "  warnings.warn(\n",
      "/Users/arguiot/Developer/Pyratz/portfolio/env/lib/python3.10/site-packages/pypfopt/efficient_frontier/efficient_frontier.py:441: UserWarning: The risk_free_rate provided to portfolio_performance is different to the one used by max_sharpe. Using the previous value.\n",
      "  warnings.warn(\n",
      "/Users/arguiot/Developer/Pyratz/portfolio/env/lib/python3.10/site-packages/pypfopt/efficient_frontier/efficient_frontier.py:441: UserWarning: The risk_free_rate provided to portfolio_performance is different to the one used by max_sharpe. Using the previous value.\n",
      "  warnings.warn(\n"
     ]
    },
    {
     "name": "stdout",
     "output_type": "stream",
     "text": [
      "[ 8.49320614e-14 -9.91331387e-23 -2.24238078e-21 -4.81977357e-19\n",
      " -1.28108463e-21 -8.49875725e-14 -2.08207572e-21 -1.73808701e-21\n",
      " -2.09190263e-20 -3.05505684e-22 -4.01529662e-21 -4.38903080e-21]\n",
      "optimal\n",
      "Setting up the Markowitz object\n",
      "[ 1.11466392e-13 -1.30443503e-22 -2.74369763e-21 -5.95371518e-19\n",
      " -1.55998228e-21 -1.11466392e-13 -2.55063159e-21 -2.19743665e-21\n",
      " -2.63607158e-20 -3.79836146e-22 -6.16557256e-21 -5.52677869e-21]\n",
      "optimal\n",
      "Setting up the Markowitz object\n",
      "[-2.58665631e-06  3.65688666e-10  7.17443851e-09  9.64114780e-06\n",
      "  3.92958127e-09 -2.59014032e-06 -2.62573743e-06  6.29880902e-09\n",
      "  8.51829557e-08 -2.00725568e-06  2.59256146e-08  1.79592678e-08]\n",
      "optimal\n",
      "Setting up the Markowitz object\n",
      "[-6.65874829e-05  5.95041057e-06  2.41451900e-05 -6.78847986e-05\n",
      "  3.16333099e-05  4.43347332e-06  2.52000637e-05  2.72407347e-05\n",
      " -1.25028998e-06  1.43779273e-05  1.34046272e-06  1.11484824e-06]\n",
      "optimal\n",
      "Setting up the Markowitz object\n",
      "[ 3.74003582e-04 -1.15753858e-15 -2.18393340e-14 -4.76290930e-12\n",
      " -1.21136355e-14 -9.27716390e-13 -2.00717642e-14 -1.93529189e-14\n",
      " -2.54968077e-13 -3.74003506e-04 -7.25831397e-14 -6.24746504e-14]\n",
      "optimal\n",
      "Setting up the Markowitz object\n"
     ]
    },
    {
     "name": "stderr",
     "output_type": "stream",
     "text": [
      "/Users/arguiot/Developer/Pyratz/portfolio/env/lib/python3.10/site-packages/pypfopt/efficient_frontier/efficient_frontier.py:441: UserWarning: The risk_free_rate provided to portfolio_performance is different to the one used by max_sharpe. Using the previous value.\n",
      "  warnings.warn(\n",
      "/Users/arguiot/Developer/Pyratz/portfolio/env/lib/python3.10/site-packages/pypfopt/efficient_frontier/efficient_frontier.py:441: UserWarning: The risk_free_rate provided to portfolio_performance is different to the one used by max_sharpe. Using the previous value.\n",
      "  warnings.warn(\n",
      "/Users/arguiot/Developer/Pyratz/portfolio/env/lib/python3.10/site-packages/pypfopt/efficient_frontier/efficient_frontier.py:441: UserWarning: The risk_free_rate provided to portfolio_performance is different to the one used by max_sharpe. Using the previous value.\n",
      "  warnings.warn(\n",
      "/Users/arguiot/Developer/Pyratz/portfolio/env/lib/python3.10/site-packages/pypfopt/efficient_frontier/efficient_frontier.py:441: UserWarning: The risk_free_rate provided to portfolio_performance is different to the one used by max_sharpe. Using the previous value.\n",
      "  warnings.warn(\n",
      "/Users/arguiot/Developer/Pyratz/portfolio/env/lib/python3.10/site-packages/pypfopt/efficient_frontier/efficient_frontier.py:441: UserWarning: The risk_free_rate provided to portfolio_performance is different to the one used by max_sharpe. Using the previous value.\n",
      "  warnings.warn(\n"
     ]
    },
    {
     "name": "stdout",
     "output_type": "stream",
     "text": [
      "[ 4.92009593e-04 -1.11905408e-15 -2.02725800e-14 -4.66665627e-12\n",
      " -1.26478422e-14  4.94788977e-04 -2.02484222e-14 -1.93081936e-14\n",
      " -2.48812366e-13 -9.86798500e-04 -6.81971013e-14 -5.89409520e-14]\n",
      "optimal\n",
      "Setting up the Markowitz object\n",
      "[ 6.11554052e-04 -2.02802988e-15 -3.85206159e-14 -8.45939745e-12\n",
      " -2.30524507e-14 -1.70685495e-12 -3.56213217e-14 -3.44986230e-14\n",
      " -4.36030083e-13 -6.11553921e-04 -1.14394789e-13 -9.90493134e-14]\n",
      "optimal\n",
      "Setting up the Markowitz object\n",
      "[ 1.19905245e-03 -2.76696386e-15 -5.45687221e-14 -1.15209137e-11\n",
      " -2.86757950e-14 -2.15431365e-12 -4.75374556e-14 -4.93933310e-14\n",
      " -6.20208952e-13 -1.19905227e-03 -1.60014556e-13 -1.33502911e-13]\n",
      "optimal\n",
      "Setting up the Markowitz object\n",
      "[-5.48179605e-06  7.96473562e-10  1.62907782e-08  9.88078765e-06\n",
      "  8.82916397e-09  7.60721018e-07  1.42654090e-08  1.44225279e-08\n",
      "  1.81851409e-07 -5.53671597e-06  4.97639681e-08  3.98001886e-08]\n",
      "optimal\n",
      "Setting up the Markowitz object\n",
      "[-1.11022302e-16  6.58809952e-29  1.34372801e-27  3.07283197e-25\n",
      "  7.45477351e-28  5.67489265e-26  1.20558030e-27  1.15753181e-27\n",
      "  1.47819137e-26  2.20760449e-28  4.10315083e-27  3.16022890e-27]\n",
      "optimal\n",
      "Setting up the Markowitz object\n"
     ]
    },
    {
     "name": "stderr",
     "output_type": "stream",
     "text": [
      "/Users/arguiot/Developer/Pyratz/portfolio/env/lib/python3.10/site-packages/pypfopt/efficient_frontier/efficient_frontier.py:441: UserWarning: The risk_free_rate provided to portfolio_performance is different to the one used by max_sharpe. Using the previous value.\n",
      "  warnings.warn(\n",
      "/Users/arguiot/Developer/Pyratz/portfolio/env/lib/python3.10/site-packages/pypfopt/efficient_frontier/efficient_frontier.py:441: UserWarning: The risk_free_rate provided to portfolio_performance is different to the one used by max_sharpe. Using the previous value.\n",
      "  warnings.warn(\n",
      "/Users/arguiot/Developer/Pyratz/portfolio/env/lib/python3.10/site-packages/pypfopt/efficient_frontier/efficient_frontier.py:441: UserWarning: The risk_free_rate provided to portfolio_performance is different to the one used by max_sharpe. Using the previous value.\n",
      "  warnings.warn(\n",
      "/Users/arguiot/Developer/Pyratz/portfolio/env/lib/python3.10/site-packages/pypfopt/efficient_frontier/efficient_frontier.py:441: UserWarning: The risk_free_rate provided to portfolio_performance is different to the one used by max_sharpe. Using the previous value.\n",
      "  warnings.warn(\n"
     ]
    },
    {
     "name": "stdout",
     "output_type": "stream",
     "text": [
      "[-1.11022302e-16 -5.32212712e-30 -1.07523885e-28 -2.56614985e-26\n",
      " -6.10324619e-29 -4.80993500e-27 -9.48860912e-29 -9.52850484e-29\n",
      " -1.16660882e-27 -1.84372814e-29 -3.15549906e-28 -2.52751385e-28]\n",
      "optimal\n",
      "Setting up the Markowitz object\n",
      "[0.00000000e+00 5.26507256e-29 1.08112178e-27 2.74863274e-25\n",
      " 5.91934483e-28 5.17097245e-26 1.01118119e-27 9.85936682e-28\n",
      " 1.21471196e-26 1.83023624e-28 3.31087122e-27 2.64906886e-27]\n",
      "optimal\n",
      "Setting up the Markowitz object\n",
      "[2.22044605e-16 1.90518189e-29 3.83527595e-28 9.43851168e-26\n",
      " 1.99984440e-28 1.74699681e-26 3.09565273e-28 3.19761771e-28\n",
      " 3.86533463e-27 5.83696579e-29 1.10692117e-27 9.11865769e-28]\n",
      "optimal\n",
      "Setting up the Markowitz object\n"
     ]
    },
    {
     "name": "stderr",
     "output_type": "stream",
     "text": [
      "/Users/arguiot/Developer/Pyratz/portfolio/env/lib/python3.10/site-packages/pypfopt/efficient_frontier/efficient_frontier.py:441: UserWarning: The risk_free_rate provided to portfolio_performance is different to the one used by max_sharpe. Using the previous value.\n",
      "  warnings.warn(\n",
      "/Users/arguiot/Developer/Pyratz/portfolio/env/lib/python3.10/site-packages/pypfopt/efficient_frontier/efficient_frontier.py:441: UserWarning: The risk_free_rate provided to portfolio_performance is different to the one used by max_sharpe. Using the previous value.\n",
      "  warnings.warn(\n",
      "/Users/arguiot/Developer/Pyratz/portfolio/env/lib/python3.10/site-packages/pypfopt/efficient_frontier/efficient_frontier.py:441: UserWarning: The risk_free_rate provided to portfolio_performance is different to the one used by max_sharpe. Using the previous value.\n",
      "  warnings.warn(\n",
      "/Users/arguiot/Developer/Pyratz/portfolio/env/lib/python3.10/site-packages/pypfopt/efficient_frontier/efficient_frontier.py:441: UserWarning: The risk_free_rate provided to portfolio_performance is different to the one used by max_sharpe. Using the previous value.\n",
      "  warnings.warn(\n",
      "/Users/arguiot/Developer/Pyratz/portfolio/env/lib/python3.10/site-packages/pypfopt/efficient_frontier/efficient_frontier.py:441: UserWarning: The risk_free_rate provided to portfolio_performance is different to the one used by max_sharpe. Using the previous value.\n",
      "  warnings.warn(\n"
     ]
    },
    {
     "name": "stdout",
     "output_type": "stream",
     "text": [
      "[-2.22044605e-16  7.34776922e-29  1.40815785e-27  3.39954496e-25\n",
      "  6.96460827e-28  5.87556650e-26  1.13723191e-27  1.18513221e-27\n",
      "  1.38506781e-26  2.07492755e-28  3.93836395e-27  3.32182215e-27]\n",
      "optimal\n",
      "Setting up the Markowitz object\n",
      "[ 0.00000000e+00 -2.41635262e-29 -4.47485093e-28 -1.15962255e-25\n",
      " -2.27987003e-28 -1.94561772e-26 -3.70888278e-28 -3.84439574e-28\n",
      " -4.78310580e-27 -6.90765235e-29 -1.25459106e-27 -1.09386675e-27]\n",
      "optimal\n",
      "Setting up the Markowitz object\n",
      "[ 7.77156117e-16 -1.31985693e-24 -2.33165005e-23 -7.21644966e-16\n",
      " -1.05941700e-23 -9.69671950e-22 -1.82464291e-23 -1.97929732e-23\n",
      " -2.40402200e-22 -3.41020347e-24 -7.00331884e-23 -5.55355136e-23]\n",
      "optimal\n",
      "Setting up the Markowitz object\n",
      "[ 1.19519761e-09 -3.58982347e-20 -6.51722260e-19 -1.70048155e-16\n",
      " -3.08734118e-19 -3.01154682e-17 -4.99018011e-19 -5.39514222e-19\n",
      " -6.42385714e-18 -9.29893872e-20 -1.19519485e-09 -1.56351213e-18]\n",
      "optimal\n"
     ]
    },
    {
     "name": "stderr",
     "output_type": "stream",
     "text": [
      "/Users/arguiot/Developer/Pyratz/portfolio/env/lib/python3.10/site-packages/pypfopt/efficient_frontier/efficient_frontier.py:441: UserWarning: The risk_free_rate provided to portfolio_performance is different to the one used by max_sharpe. Using the previous value.\n",
      "  warnings.warn(\n",
      "/Users/arguiot/Developer/Pyratz/portfolio/env/lib/python3.10/site-packages/pypfopt/efficient_frontier/efficient_frontier.py:441: UserWarning: The risk_free_rate provided to portfolio_performance is different to the one used by max_sharpe. Using the previous value.\n",
      "  warnings.warn(\n",
      "/Users/arguiot/Developer/Pyratz/portfolio/env/lib/python3.10/site-packages/pypfopt/efficient_frontier/efficient_frontier.py:441: UserWarning: The risk_free_rate provided to portfolio_performance is different to the one used by max_sharpe. Using the previous value.\n",
      "  warnings.warn(\n",
      "/Users/arguiot/Developer/Pyratz/portfolio/env/lib/python3.10/site-packages/pypfopt/efficient_frontier/efficient_frontier.py:441: UserWarning: The risk_free_rate provided to portfolio_performance is different to the one used by max_sharpe. Using the previous value.\n",
      "  warnings.warn(\n",
      "/Users/arguiot/Developer/Pyratz/portfolio/env/lib/python3.10/site-packages/pypfopt/efficient_frontier/efficient_frontier.py:441: UserWarning: The risk_free_rate provided to portfolio_performance is different to the one used by max_sharpe. Using the previous value.\n",
      "  warnings.warn(\n"
     ]
    },
    {
     "name": "stdout",
     "output_type": "stream",
     "text": [
      "Setting up the Markowitz object\n",
      "[-4.10768317e-06  9.00401429e-10  1.60566074e-08  8.85399059e-06\n",
      "  6.02308535e-09  7.13580692e-07  1.25729037e-08  1.34919860e-08\n",
      "  1.58922473e-07  2.24118803e-09 -5.77404004e-06  3.89751643e-08]\n",
      "optimal\n",
      "Setting up the Markowitz object\n",
      "[-2.22044605e-16  3.36436597e-29  6.14549086e-28  1.68400428e-25\n",
      "  1.94895315e-28  2.85949928e-26  4.69618863e-28  5.00404072e-28\n",
      "  6.18733465e-27  8.66370959e-29  1.94704579e-27  1.47286462e-27]\n",
      "optimal\n",
      "Setting up the Markowitz object\n",
      "[2.22044605e-16 2.92866046e-30 5.21391537e-29 1.44292327e-26\n",
      " 1.48239899e-29 2.49537587e-27 4.09372425e-29 4.29868735e-29\n",
      " 4.99424382e-28 6.81382126e-30 1.67528724e-28 1.19799446e-28]\n",
      "optimal\n",
      "Setting up the Markowitz object\n",
      "[ 1.25011113e-13 -5.43578906e-23 -9.65951765e-22 -2.70017650e-19\n",
      " -2.73073929e-22 -1.24858457e-13 -7.84404134e-22 -8.03089900e-22\n",
      " -9.67853212e-21 -1.30056912e-22 -3.00786409e-21 -2.17041314e-21]\n",
      "optimal\n",
      "Setting up the Markowitz object\n",
      "[-3.33333317e-06 -5.46246071e-23 -9.59265969e-22 -3.33333312e-06\n",
      " -2.31187151e-22 -3.33333371e-06 -7.51439384e-22 -7.95193197e-22\n",
      " -9.77873498e-21 -1.37181587e-22 -3.04010960e-21 -2.16714699e-21]\n",
      "optimal\n",
      "Setting up the Markowitz object\n",
      "[ 5.55111512e-16 -1.05328577e-24 -1.79905013e-23 -5.55111512e-16\n",
      " -4.91568013e-24 -8.59776828e-22 -1.42508754e-23 -1.49132205e-23\n",
      " -1.78121158e-22 -2.52079481e-24 -5.93081998e-23 -4.08749868e-23]\n",
      "optimal\n",
      "Setting up the Markowitz object\n",
      "[ 3.33066907e-16 -7.21720339e-25 -1.37372862e-23 -2.22044605e-16\n",
      " -3.72760613e-24 -6.24893047e-22 -1.06562559e-23 -1.18341190e-23\n",
      " -1.37849148e-22 -1.60019824e-24 -4.10429999e-23 -3.05124536e-23]\n",
      "optimal\n",
      "Setting up the Markowitz object\n",
      "[ 1.11022302e-16 -2.30365148e-25 -4.56082653e-24 -1.94289029e-16\n",
      " -1.23116833e-24 -2.11229458e-22 -3.90614351e-24 -3.90803311e-24\n",
      " -4.41433277e-23 -5.29926478e-25 -1.35191037e-23 -1.00358365e-23]\n",
      "optimal\n",
      "Setting up the Markowitz object\n",
      "[4.44089210e-16 3.83281015e-29 8.12214988e-28 2.48262492e-25\n",
      " 1.88258962e-28 3.13067113e-26 6.26249162e-28 6.62385025e-28\n",
      " 7.55440458e-27 8.65654945e-29 2.19971557e-27 1.72240363e-27]\n",
      "optimal\n",
      "Setting up the Markowitz object\n"
     ]
    },
    {
     "name": "stderr",
     "output_type": "stream",
     "text": [
      "/Users/arguiot/Developer/Pyratz/portfolio/env/lib/python3.10/site-packages/pypfopt/efficient_frontier/efficient_frontier.py:441: UserWarning: The risk_free_rate provided to portfolio_performance is different to the one used by max_sharpe. Using the previous value.\n",
      "  warnings.warn(\n",
      "/Users/arguiot/Developer/Pyratz/portfolio/env/lib/python3.10/site-packages/pypfopt/efficient_frontier/efficient_frontier.py:441: UserWarning: The risk_free_rate provided to portfolio_performance is different to the one used by max_sharpe. Using the previous value.\n",
      "  warnings.warn(\n",
      "/Users/arguiot/Developer/Pyratz/portfolio/env/lib/python3.10/site-packages/pypfopt/efficient_frontier/efficient_frontier.py:441: UserWarning: The risk_free_rate provided to portfolio_performance is different to the one used by max_sharpe. Using the previous value.\n",
      "  warnings.warn(\n",
      "/Users/arguiot/Developer/Pyratz/portfolio/env/lib/python3.10/site-packages/pypfopt/efficient_frontier/efficient_frontier.py:441: UserWarning: The risk_free_rate provided to portfolio_performance is different to the one used by max_sharpe. Using the previous value.\n",
      "  warnings.warn(\n",
      "/Users/arguiot/Developer/Pyratz/portfolio/env/lib/python3.10/site-packages/pypfopt/efficient_frontier/efficient_frontier.py:441: UserWarning: The risk_free_rate provided to portfolio_performance is different to the one used by max_sharpe. Using the previous value.\n",
      "  warnings.warn(\n"
     ]
    },
    {
     "name": "stdout",
     "output_type": "stream",
     "text": [
      "[2.22044605e-16 3.46194833e-29 7.70893636e-28 2.28138064e-25\n",
      " 1.89464229e-28 2.93356887e-26 6.61966200e-28 6.34024679e-28\n",
      " 8.08230561e-27 8.01315156e-29 2.20290355e-27 1.54004831e-27]\n",
      "optimal\n",
      "Setting up the Markowitz object\n",
      "[2.22044605e-16 5.46971172e-29 1.16720317e-27 3.51169595e-25\n",
      " 2.76286358e-28 4.44762158e-26 9.86923610e-28 9.64745928e-28\n",
      " 1.38565005e-26 1.28007777e-28 4.11784671e-27 2.56744849e-27]\n",
      "optimal\n",
      "Setting up the Markowitz object\n",
      "[ 1.20958680e-08 -2.16308043e-19 -4.59017250e-18  1.23411923e-08\n",
      " -1.02310086e-18 -1.66691936e-16 -3.84808284e-18 -3.60155441e-18\n",
      " -5.23858446e-17 -5.30045663e-19 -2.44370401e-08 -9.83710175e-18]\n",
      "optimal\n",
      "Setting up the Markowitz object\n",
      "[-5.48701275e-05  2.45639233e-05  6.75576703e-07 -5.59313602e-05\n",
      "  5.40060690e-05  2.44521229e-06  5.75738317e-07  4.28566545e-07\n",
      "  5.30099378e-07  4.58379153e-05 -1.90558322e-05  4.00409932e-07]\n",
      "optimal\n",
      "Setting up the Markowitz object\n",
      "[-2.71613883e-05  7.70684411e-07  3.29585852e-06 -2.71785122e-05\n",
      "  1.73169242e-06 -5.70795498e-06  9.21775987e-05  2.92957705e-06\n",
      " -2.27072239e-06  1.21687718e-06 -4.24674023e-05  3.72055331e-06]\n",
      "optimal\n",
      "Setting up the Markowitz object\n"
     ]
    },
    {
     "name": "stderr",
     "output_type": "stream",
     "text": [
      "/Users/arguiot/Developer/Pyratz/portfolio/env/lib/python3.10/site-packages/pypfopt/efficient_frontier/efficient_frontier.py:441: UserWarning: The risk_free_rate provided to portfolio_performance is different to the one used by max_sharpe. Using the previous value.\n",
      "  warnings.warn(\n",
      "/Users/arguiot/Developer/Pyratz/portfolio/env/lib/python3.10/site-packages/pypfopt/efficient_frontier/efficient_frontier.py:441: UserWarning: The risk_free_rate provided to portfolio_performance is different to the one used by max_sharpe. Using the previous value.\n",
      "  warnings.warn(\n",
      "/Users/arguiot/Developer/Pyratz/portfolio/env/lib/python3.10/site-packages/pypfopt/efficient_frontier/efficient_frontier.py:441: UserWarning: The risk_free_rate provided to portfolio_performance is different to the one used by max_sharpe. Using the previous value.\n",
      "  warnings.warn(\n",
      "/Users/arguiot/Developer/Pyratz/portfolio/env/lib/python3.10/site-packages/pypfopt/efficient_frontier/efficient_frontier.py:441: UserWarning: The risk_free_rate provided to portfolio_performance is different to the one used by max_sharpe. Using the previous value.\n",
      "  warnings.warn(\n",
      "/Users/arguiot/Developer/Pyratz/portfolio/env/lib/python3.10/site-packages/pypfopt/efficient_frontier/efficient_frontier.py:441: UserWarning: The risk_free_rate provided to portfolio_performance is different to the one used by max_sharpe. Using the previous value.\n",
      "  warnings.warn(\n"
     ]
    },
    {
     "name": "stdout",
     "output_type": "stream",
     "text": [
      "[ 3.66666668e-05  1.57998089e-07  3.43094031e-07  3.67302005e-05\n",
      "  1.13120935e-07  1.00046292e-05 -1.38135573e-04  2.35958273e-07\n",
      "  2.97586657e-06  1.80726202e-07  3.88281074e-05  5.93748335e-07]\n",
      "optimal\n",
      "Setting up the Markowitz object\n",
      "[-4.72262940e-06  5.41470749e-10  1.38354856e-08  9.36835822e-06\n",
      "  2.70737225e-09  4.78719817e-07 -5.40126648e-06  9.35833260e-09\n",
      "  1.24974556e-07  1.26485348e-09  4.65077683e-08  2.30536930e-08]\n",
      "optimal\n",
      "Setting up the Markowitz object\n",
      "[-4.90291064e-05  3.23424545e-05 -3.15910428e-07 -4.83879792e-05\n",
      "  7.04253898e-05  6.38428665e-06 -2.55587286e-07 -1.31635696e-08\n",
      "  1.08381148e-06  5.62779784e-05 -5.93623574e-05  7.58613598e-08]\n",
      "optimal\n",
      "Setting up the Markowitz object\n",
      "[ 5.55111512e-16 -7.06126876e-25 -1.62410836e-23 -4.44089210e-16\n",
      " -3.42759998e-24 -5.85338262e-22 -1.24481951e-23 -1.21890668e-23\n",
      " -1.53206676e-22 -1.48289950e-24 -5.48514101e-23 -2.73077792e-23]\n",
      "optimal\n",
      "Setting up the Markowitz object\n",
      "[ 1.11022302e-16 -2.75558011e-25 -6.41817023e-24 -5.55111512e-17\n",
      " -1.32872786e-24 -2.30471400e-22 -4.72246622e-24 -4.58189322e-24\n",
      " -5.92991058e-23 -5.81367214e-25 -2.09493789e-23 -1.06583227e-23]\n",
      "optimal\n",
      "Setting up the Markowitz object\n",
      "[-2.06496505e-06  3.78797998e-06  2.80137024e-06 -1.80195035e-06\n",
      "  9.43862589e-07  2.10376174e-07  1.95994247e-06  1.96142060e-06\n",
      " -4.66936345e-07  2.61141081e-06 -1.36692565e-07  2.23672515e-07]\n",
      "optimal\n",
      "Setting up the Markowitz object\n"
     ]
    },
    {
     "name": "stderr",
     "output_type": "stream",
     "text": [
      "/Users/arguiot/Developer/Pyratz/portfolio/env/lib/python3.10/site-packages/pypfopt/efficient_frontier/efficient_frontier.py:441: UserWarning: The risk_free_rate provided to portfolio_performance is different to the one used by max_sharpe. Using the previous value.\n",
      "  warnings.warn(\n",
      "/Users/arguiot/Developer/Pyratz/portfolio/env/lib/python3.10/site-packages/pypfopt/efficient_frontier/efficient_frontier.py:441: UserWarning: The risk_free_rate provided to portfolio_performance is different to the one used by max_sharpe. Using the previous value.\n",
      "  warnings.warn(\n",
      "/Users/arguiot/Developer/Pyratz/portfolio/env/lib/python3.10/site-packages/pypfopt/efficient_frontier/efficient_frontier.py:441: UserWarning: The risk_free_rate provided to portfolio_performance is different to the one used by max_sharpe. Using the previous value.\n",
      "  warnings.warn(\n",
      "/Users/arguiot/Developer/Pyratz/portfolio/env/lib/python3.10/site-packages/pypfopt/efficient_frontier/efficient_frontier.py:441: UserWarning: The risk_free_rate provided to portfolio_performance is different to the one used by max_sharpe. Using the previous value.\n",
      "  warnings.warn(\n",
      "/Users/arguiot/Developer/Pyratz/portfolio/env/lib/python3.10/site-packages/pypfopt/efficient_frontier/efficient_frontier.py:441: UserWarning: The risk_free_rate provided to portfolio_performance is different to the one used by max_sharpe. Using the previous value.\n",
      "  warnings.warn(\n",
      "/Users/arguiot/Developer/Pyratz/portfolio/env/lib/python3.10/site-packages/pypfopt/efficient_frontier/efficient_frontier.py:441: UserWarning: The risk_free_rate provided to portfolio_performance is different to the one used by max_sharpe. Using the previous value.\n",
      "  warnings.warn(\n"
     ]
    },
    {
     "name": "stdout",
     "output_type": "stream",
     "text": [
      "[-5.44625414e-06  4.73833130e-10 -4.89420866e-06  9.62484885e-06\n",
      "  2.16622323e-09  4.78394934e-07  8.06047559e-09  7.76919684e-09\n",
      "  1.15094110e-07  9.94888051e-10  3.59735655e-08  1.74944025e-08]\n",
      "optimal\n",
      "Setting up the Markowitz object\n",
      "[ 7.00645663e-07 -6.16360663e-18 -7.00644949e-07 -3.99070716e-14\n",
      " -2.86973905e-17 -5.27104369e-15 -1.07064053e-16 -1.00943477e-16\n",
      " -1.57531631e-15 -1.30345359e-17 -4.87478500e-16 -2.22801645e-16]\n",
      "optimal\n",
      "Setting up the Markowitz object\n",
      "[-3.25961289e-06  3.73544686e-10 -3.37127871e-06  9.44871604e-06\n",
      "  1.72063614e-09  3.49546869e-07  6.57265351e-09  6.04734143e-09\n",
      " -3.26794520e-06  7.84552539e-10  3.17580802e-08  1.36467360e-08]\n",
      "optimal\n",
      "Setting up the Markowitz object\n",
      "[-9.71914434e-06 -1.55104205e-09  2.12254852e-05  8.11644023e-06\n",
      " -7.09450658e-09 -8.61278928e-07 -2.60031972e-08 -2.41294039e-08\n",
      " -3.53123584e-07 -3.37903277e-09 -1.81179124e-05 -6.09347712e-08]\n",
      "optimal\n",
      "Setting up the Markowitz object\n"
     ]
    },
    {
     "name": "stderr",
     "output_type": "stream",
     "text": [
      "/Users/arguiot/Developer/Pyratz/portfolio/env/lib/python3.10/site-packages/pypfopt/efficient_frontier/efficient_frontier.py:441: UserWarning: The risk_free_rate provided to portfolio_performance is different to the one used by max_sharpe. Using the previous value.\n",
      "  warnings.warn(\n",
      "/Users/arguiot/Developer/Pyratz/portfolio/env/lib/python3.10/site-packages/pypfopt/efficient_frontier/efficient_frontier.py:441: UserWarning: The risk_free_rate provided to portfolio_performance is different to the one used by max_sharpe. Using the previous value.\n",
      "  warnings.warn(\n",
      "/Users/arguiot/Developer/Pyratz/portfolio/env/lib/python3.10/site-packages/pypfopt/efficient_frontier/efficient_frontier.py:441: UserWarning: The risk_free_rate provided to portfolio_performance is different to the one used by max_sharpe. Using the previous value.\n",
      "  warnings.warn(\n",
      "/Users/arguiot/Developer/Pyratz/portfolio/env/lib/python3.10/site-packages/pypfopt/efficient_frontier/efficient_frontier.py:441: UserWarning: The risk_free_rate provided to portfolio_performance is different to the one used by max_sharpe. Using the previous value.\n",
      "  warnings.warn(\n"
     ]
    },
    {
     "name": "stdout",
     "output_type": "stream",
     "text": [
      "[-8.38376167e-13 -7.70963263e-18 -3.43570625e-06 -4.85529643e-14\n",
      " -3.46265366e-17 -6.44710643e-15 -1.27498404e-16 -1.16541010e-16\n",
      "  1.41650740e-06 -1.61471316e-17  2.01920059e-06 -2.85438819e-16]\n",
      "optimal\n",
      "Setting up the Markowitz object\n",
      "[ 9.80184870e-06  2.85952839e-11 -5.01979338e-06  1.86950524e-07\n",
      "  1.23764818e-10  2.38227447e-08  4.58331326e-10  4.31960664e-10\n",
      "  7.73239652e-09  6.34148321e-11 -5.00604404e-06  1.06622234e-09]\n",
      "optimal\n"
     ]
    },
    {
     "name": "stderr",
     "output_type": "stream",
     "text": [
      "/Users/arguiot/Developer/Pyratz/portfolio/env/lib/python3.10/site-packages/pypfopt/efficient_frontier/efficient_frontier.py:441: UserWarning: The risk_free_rate provided to portfolio_performance is different to the one used by max_sharpe. Using the previous value.\n",
      "  warnings.warn(\n",
      "/Users/arguiot/Developer/Pyratz/portfolio/env/lib/python3.10/site-packages/pypfopt/efficient_frontier/efficient_frontier.py:441: UserWarning: The risk_free_rate provided to portfolio_performance is different to the one used by max_sharpe. Using the previous value.\n",
      "  warnings.warn(\n",
      "/Users/arguiot/Developer/Pyratz/portfolio/portfolio_optimization/backtesting/Backtesting.py:322: SettingWithCopyWarning: \n",
      "A value is trying to be set on a copy of a slice from a DataFrame.\n",
      "Try using .loc[row_indexer,col_indexer] = value instead\n",
      "\n",
      "See the caveats in the documentation: https://pandas.pydata.org/pandas-docs/stable/user_guide/indexing.html#returning-a-view-versus-a-copy\n",
      "  value[\"Daily Return\"] = daily_return\n"
     ]
    },
    {
     "ename": "",
     "evalue": "",
     "output_type": "error",
     "traceback": [
      "\u001b[1;31mLe Kernel s’est bloqué lors de l’exécution du code dans la cellule active ou une cellule précédente. Veuillez vérifier le code dans la ou les cellules pour identifier une cause possible de l’échec. Cliquez <a href='https://aka.ms/vscodeJupyterKernelCrash'>ici</a> pour plus d’informations. Pour plus d’informations, consultez Jupyter <a href='command:jupyter.viewOutput'>log</a>."
     ]
    }
   ],
   "source": [
    "perfs = backtest.run_backtest(\n",
    "    look_back_period=120,\n",
    "    look_back_unit=\"D\",\n",
    "    yield_data=yield_data,\n",
    ")\n",
    "\n",
    "# Check if the directory exists, if not, create it\n",
    "if not os.path.exists(f\"./out/{rebalance_frequency}_parity/\"):\n",
    "    os.makedirs(f\"./out/{rebalance_frequency}_parity/\")\n",
    "\n",
    "backtest.export_results(\n",
    "    perfs, f\"./out/{rebalance_frequency}_parity/\", f\"backtest_results_{asset_class}.xlsx\"\n",
    ")"
   ]
  }
 ],
 "metadata": {
  "kernelspec": {
   "display_name": "env",
   "language": "python",
   "name": "python3"
  },
  "language_info": {
   "codemirror_mode": {
    "name": "ipython",
    "version": 3
   },
   "file_extension": ".py",
   "mimetype": "text/x-python",
   "name": "python",
   "nbconvert_exporter": "python",
   "pygments_lexer": "ipython3",
   "version": "3.10.13"
  },
  "orig_nbformat": 4
 },
 "nbformat": 4,
 "nbformat_minor": 2
}
