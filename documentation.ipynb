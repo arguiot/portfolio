{
 "cells": [
  {
   "attachments": {},
   "cell_type": "markdown",
   "metadata": {},
   "source": [
    "# Portfolio Optimization\n",
    "The portfolio optimization module is a collection of functions that can be used to optimize a portfolio of assets. The module contains functions to calculate the efficient frontier, the optimal portfolio, the return of the optimal portfolio and more.\n",
    "\n",
    "Prototyping and experimenting with this module should be easy and fun. The documentation is therefore written in the form of a tutorial with examples."
   ]
  },
  {
   "attachments": {},
   "cell_type": "markdown",
   "metadata": {},
   "source": [
    "### Modules\n",
    "The portfolio optimization module consists of the following modules:\n",
    "- **data_processing**: This module contains functions to process data. For example, it contains functions to calculate the expected returns and the covariance matrix of a portfolio.\n",
    "- **data_collection**: This module contains functions to collect data. For example, it contains functions to collect price data from CoinMetrics.\n",
    "- **optimization**: This module contains functions to optimize a portfolio. For example, it contains functions to calculate the efficient frontier and the optimal portfolio.\n",
    "- **portfolio**: This module contains objects to represent a portfolio. This is mainly used to store and rebalance a portfolio.\n",
    "- **backtesting**: This module contains functions to backtest a portfolio."
   ]
  },
  {
   "cell_type": "code",
   "execution_count": 1,
   "metadata": {},
   "outputs": [],
   "source": [
    "# Importing data processing modules, such as expected returns.\n",
    "from portfolio_optimization.data_processing import *\n",
    "# Importing data collection modules, such as getting assets.\n",
    "from portfolio_optimization.data_collection import *\n",
    "# Importing optimization modules, such as the optimizer. This is the main module for generating portfolios.\n",
    "from portfolio_optimization.optimization import *\n",
    "# Importing portfolio modules, such as the portfolio class. This is the main module for using optimizers\n",
    "from portfolio_optimization.portfolio import *\n",
    "# Importing backtesting modules, such as the backtester. This is the main module for backtesting portfolios.\n",
    "from portfolio_optimization.backtesting import *\n",
    "\n",
    "\n",
    "## Note: The following imports are for the documentation only\n",
    "from tokens.get_assets import *\n",
    "import numpy as np\n",
    "import pandas as pd\n",
    "from datetime import timedelta\n",
    "from dateutil.relativedelta import relativedelta"
   ]
  },
  {
   "attachments": {},
   "cell_type": "markdown",
   "metadata": {},
   "source": [
    "## Data Collection\n",
    "The first step is to collect data. The data collection module contains functions to collect data from CoinMetrics. The data is fetched as a git repository and stored in a local directory. The data is then read of the CSV files in this directory (in our case the `data` directory). The raw data is converted to a Pandas DataFrame returned by `get_historical_prices_for_assets`. Since the data is containing a lot of information, we will only use the `ReferenceRate` and `CapMrktEstUSD` columns. The `ReferenceRate` column contains the price of the asset and the `CapMrktEstUSD` column contains the market cap of the asset. The market cap is used to calculate the weights of the assets in the black litterman portfolio."
   ]
  },
  {
   "cell_type": "code",
   "execution_count": 2,
   "metadata": {},
   "outputs": [
    {
     "name": "stdout",
     "output_type": "stream",
     "text": [
      "High risk tickers: 12\n",
      "Medium risk tickers: 60\n",
      "Low risk tickers: 8\n"
     ]
    },
    {
     "name": "stderr",
     "output_type": "stream",
     "text": [
      "/Users/arguiot/Developer/Pyratz/portfolio/portfolio_optimization/data_collection/get_crypto_price_range.py:41: DtypeWarning: Columns (146) have mixed types. Specify dtype option on import or set low_memory=False.\n",
      "  df = pd.read_csv(file)\n"
     ]
    }
   ],
   "source": [
    "# Choose the asset class and the assets\n",
    "asset_list = get_tickers()\n",
    "asset_class = \"high_risk_tickers\"\n",
    "\n",
    "_df = get_historical_prices_for_assets(\n",
    "    asset_list[asset_class],\n",
    "    time_range=timedelta(days=365 * 1 + 120),  # 1 years\n",
    "    interested_columns=[\"ReferenceRate\", \"CapMrktEstUSD\"],\n",
    ")"
   ]
  },
  {
   "attachments": {},
   "cell_type": "markdown",
   "metadata": {},
   "source": [
    "## Data Processing\n",
    "The data processing module is an internal module that is not going to be used by the frontend (Manager), here this is just some quick data cleaning for the notebook."
   ]
  },
  {
   "cell_type": "code",
   "execution_count": 3,
   "metadata": {},
   "outputs": [
    {
     "name": "stderr",
     "output_type": "stream",
     "text": [
      "/var/folders/d2/1qh2h9ys19z3375prb_0cb8w0000gn/T/ipykernel_33529/3818043710.py:7: SettingWithCopyWarning: \n",
      "A value is trying to be set on a copy of a slice from a DataFrame\n",
      "\n",
      "See the caveats in the documentation: https://pandas.pydata.org/pandas-docs/stable/user_guide/indexing.html#returning-a-view-versus-a-copy\n",
      "  mcaps.replace(np.nan, 0, inplace=True)\n"
     ]
    }
   ],
   "source": [
    "# Filter out all columns containing `_` in their name\n",
    "df = _df.loc[:, ~_df.columns.str.contains(\"_\")]\n",
    "\n",
    "# Get all the market caps\n",
    "mcaps = _df.loc[:, _df.columns.str.contains(\"CapMrktEstUSD\")]\n",
    "mcaps.columns = mcaps.columns.str.replace(\"_CapMrktEstUSD\", \"\")\n",
    "mcaps.replace(np.nan, 0, inplace=True)\n",
    "\n",
    "start_date_portfolio = df.index[0] + relativedelta(days=120)"
   ]
  },
  {
   "attachments": {},
   "cell_type": "markdown",
   "metadata": {},
   "source": [
    "## Delegates & Data pipelines\n",
    "`Portfolio` and `Optimization` modules were designed with pipeline architecture in mind. That means that some steps in each process can be delegated to external logic.\n",
    "\n",
    "### Optimization\n",
    "Delegating for an `GeneralOptimization` class is easy. You just need to extend `GeneralOptimizationDelegate`:"
   ]
  },
  {
   "cell_type": "code",
   "execution_count": 4,
   "metadata": {},
   "outputs": [],
   "source": [
    "class CustomMarkowitzDelegate(GeneralOptimizationDelegate):\n",
    "    def setup(self, optimization_object: Markowitz):\n",
    "        print(\"Setting up the Markowitz object\")\n",
    "        optimization_object.mode = optimization_object.CovMode.LEDOIT_WOLF # See CovMode on the Markowitz class for more options\n",
    "        optimization_object.efficient_portfolio = (\n",
    "            optimization_object.EfficientPortfolio.MAX_SHARPE # See EfficientPortfolio on the Markowitz class for more options\n",
    "        )\n",
    "\n",
    "        # Now we need to set the expected returns and the covariance matrix\n",
    "        if optimization_object.cov_matrix is None:\n",
    "            optimization_object.cov_matrix = optimization_object.get_cov_matrix()\n",
    "\n",
    "        optimization_object.rets = expected_returns.mean_historical_return(\n",
    "            optimization_object.df\n",
    "        )\n",
    "\n",
    "        return super().setup(optimization_object) # Setup can be cascaded"
   ]
  },
  {
   "attachments": {},
   "cell_type": "markdown",
   "metadata": {},
   "source": [
    "### Portfolio\n",
    "Delegating for an `Portfolio` class is super powerful for custom rebalancing logic. You just need to extend `PortfolioDelegate`:"
   ]
  },
  {
   "cell_type": "code",
   "execution_count": 5,
   "metadata": {},
   "outputs": [],
   "source": [
    "class OptRebalancingPortfolioDelegate(PortfolioDelegate):\n",
    "    def rebalance(\n",
    "        self, holdings: pd.Series, prices: pd.Series, target_weights: pd.Series\n",
    "    ) -> pd.Series:\n",
    "        diff = optimize_trades(\n",
    "            holdings=holdings,\n",
    "            new_target_weights=target_weights,\n",
    "            prices=prices,\n",
    "            min_W=0.0,\n",
    "            max_W=1.0,\n",
    "            external_movement=0,\n",
    "        )\n",
    "\n",
    "        new_holdings = pd.Series(diff, index=holdings.index) + holdings\n",
    "        return new_holdings"
   ]
  },
  {
   "attachments": {},
   "cell_type": "markdown",
   "metadata": {},
   "source": [
    "## Setting up the backtesting parameters\n",
    "Backtesting plays a central role in this package. Various parameters can be set to customize the backtesting process. The following parameters can be set:"
   ]
  },
  {
   "cell_type": "code",
   "execution_count": 6,
   "metadata": {},
   "outputs": [],
   "source": [
    "initial_bid = 1000 # We start with 1000 USD\n",
    "\n",
    "max_weight = {\"*\": 1.0} # Can be: {'*': 1.0} or {'*': 0.5, 'BTC': 0.15}\n",
    "\n",
    "min_weight = { '*': 0.0} # Can be: {'*': 0.0} or {'*': 0.5, 'BTC': 0.05}\n",
    "\n",
    "budget = {} # Can be: {'uni': 1.2} for extra 20% for UNI\n",
    "\n",
    "yield_data = pd.Series()\n",
    "for asset in asset_list[asset_class]:\n",
    "    yield_data[asset] = 0.075\n",
    "\n",
    "weight_threshold = 0.01\n",
    "\n",
    "lambda_var = 0.1\n",
    "lambda_u = 0.1\n",
    "\n",
    "rebalance_frequency = \"1W\"\n",
    "adjust_holdings = True # Wether to adjust the holdings daily to obtain the target weights"
   ]
  },
  {
   "attachments": {},
   "cell_type": "markdown",
   "metadata": {},
   "source": [
    "## Portfolio Construction & backtesting\n",
    "Constructing a portfolio is done by using the `Portfolio` class. The `Portfolio` class is initialized with the following parameters:\n",
    "- **base_value**: The base value of the portfolio. This is the value of the portfolio at the start of the backtesting period.\n",
    "- **initial_prices**: The initial prices of the assets in the portfolio. This is used to calculate the initial weights of the assets in the portfolio.\n",
    "- **optimiser**: The chosen optimiser. Make sure to `bind` the delegate to the optimiser.\n",
    "- **max_weight**: The maximum weight of an asset in the portfolio. This is used to set the bounds of the optimisation problem.\n",
    "- **min_weight**: The minimum weight of an asset in the portfolio. This is used to set the bounds of the optimisation problem.\n",
    "- **weight_threshold**: The threshold in dollars for the weights of the assets in the portfolio. This will be passed to the rebalancing delegate\n",
    "- **budget**: The budget of the portfolio. This is used with `RiskParity`\n",
    "- **lambda_var**: The variance risk budgeting lambda parameter. This is used with `RiskParity`\n",
    "- **lambda_mean**: The mean risk budgeting lambda parameter. This is used with `RiskParity`\n",
    "\n",
    "\n",
    "The `Backtesting` object can be constructed as follows, where all the `Portfolio` parameters are passed as a dictionary."
   ]
  },
  {
   "cell_type": "code",
   "execution_count": 7,
   "metadata": {},
   "outputs": [
    {
     "name": "stdout",
     "output_type": "stream",
     "text": [
      "Setting up the Markowitz object\n"
     ]
    }
   ],
   "source": [
    "portfolio_markowitz = Portfolio(\n",
    "    base_value=initial_bid,\n",
    "    initial_prices=df.loc[:start_date_portfolio],\n",
    "    optimiser=Markowitz.bind(CustomMarkowitzDelegate()),\n",
    "    max_weight=max_weight,\n",
    "    min_weight=min_weight,\n",
    "    weight_threshold=weight_threshold,\n",
    "    budget=budget,\n",
    "    lambda_var=lambda_var,\n",
    "    lambda_u=lambda_u,\n",
    ")\n",
    "\n",
    "portfolio_markowitz.delegate = OptRebalancingPortfolioDelegate() # We can set a delegate to the portfolio\n",
    "\n",
    "backtest = Backtest(\n",
    "    portfolios={\n",
    "        \"Markowitz\": portfolio_markowitz,\n",
    "    },\n",
    "    start_date=start_date_portfolio,\n",
    "    end_date=df.index[-1],\n",
    "    rebalance_frequency=rebalance_frequency,\n",
    "    adjust_holdings=adjust_holdings,\n",
    "    data=df,\n",
    "    mcaps=mcaps,\n",
    "    asset_class=asset_class,\n",
    ")"
   ]
  },
  {
   "attachments": {},
   "cell_type": "markdown",
   "metadata": {},
   "source": [
    "#### Running the backtest and Saving the data\n",
    "Running the backtest is done by calling the `run_backtest` method. This method takes the following parameters:\n",
    "- **look_back_period**: A number of \"unit\" to look back at every rebalancing\n",
    "- **look_back_unit**: The unit of the look back period. This can be `D` for days, `W` for weeks, `M` for months or `Y` for years.\n",
    "- **yield_data**: A `pd.Series` containing the yield of the portfolio. This is APR."
   ]
  },
  {
   "cell_type": "code",
   "execution_count": 9,
   "metadata": {},
   "outputs": [
    {
     "name": "stdout",
     "output_type": "stream",
     "text": [
      "Setting up the Markowitz object\n",
      "[ 1.38134802e-05  8.59674592e-11  1.68255202e-09  3.36747438e-07\n",
      " -7.12491903e-06  6.67805492e-08  1.49087435e-09  1.43099539e-09\n",
      "  2.01429890e-08 -7.13232183e-06  6.86003976e-09  3.84002566e-09]\n",
      "optimal_inaccurate\n",
      "Setting up the Markowitz object\n",
      "[ 1.92808785e-05  1.32221264e-10  2.39621418e-09  5.38972431e-07\n",
      " -9.97537671e-06  9.68440294e-08  2.22837645e-09  2.09267493e-09\n",
      "  2.69856408e-08 -9.99788330e-06  1.03813651e-08  5.77764468e-09]\n",
      "optimal_inaccurate\n",
      "Setting up the Markowitz object\n",
      "[ 1.53032804e-05  1.03656909e-10  2.10575531e-09  4.17625036e-07\n",
      " -7.94021430e-06  8.58435344e-08  1.86427974e-09  1.70535855e-09\n",
      "  2.34461891e-08 -7.91463850e-06  8.94266864e-09  4.76731841e-09]\n",
      "optimal_inaccurate\n",
      "Setting up the Markowitz object\n",
      "[ 1.11065014e-05  7.61461505e-11  1.40328916e-09  2.96050185e-07\n",
      " -5.72076659e-06 -5.70900772e-06  1.24589563e-09  1.29631972e-09\n",
      "  1.29980795e-08  2.10383251e-10  3.28310088e-09  2.93922869e-09]\n",
      "optimal_inaccurate\n",
      "Setting up the Markowitz object\n",
      "[-1.41830986e-11 -2.78869106e-16 -5.22447516e-15 -1.03519436e-12\n",
      " -8.68382001e-05  8.68382296e-05 -4.89697125e-15 -4.75429532e-15\n",
      " -4.97794629e-14 -7.44135542e-16 -1.09191508e-14 -1.09430420e-14]\n",
      "optimal\n",
      "Setting up the Markowitz object\n"
     ]
    },
    {
     "name": "stderr",
     "output_type": "stream",
     "text": [
      "/Users/arguiot/Developer/Pyratz/portfolio/env/lib/python3.10/site-packages/cvxpy/problems/problem.py:1387: UserWarning: Solution may be inaccurate. Try another solver, adjusting the solver settings, or solve with verbose=True for more information.\n",
      "  warnings.warn(\n",
      "/Users/arguiot/Developer/Pyratz/portfolio/env/lib/python3.10/site-packages/pypfopt/efficient_frontier/efficient_frontier.py:441: UserWarning: The risk_free_rate provided to portfolio_performance is different to the one used by max_sharpe. Using the previous value.\n",
      "  warnings.warn(\n",
      "/Users/arguiot/Developer/Pyratz/portfolio/env/lib/python3.10/site-packages/cvxpy/problems/problem.py:1387: UserWarning: Solution may be inaccurate. Try another solver, adjusting the solver settings, or solve with verbose=True for more information.\n",
      "  warnings.warn(\n",
      "/Users/arguiot/Developer/Pyratz/portfolio/env/lib/python3.10/site-packages/pypfopt/efficient_frontier/efficient_frontier.py:441: UserWarning: The risk_free_rate provided to portfolio_performance is different to the one used by max_sharpe. Using the previous value.\n",
      "  warnings.warn(\n",
      "/Users/arguiot/Developer/Pyratz/portfolio/env/lib/python3.10/site-packages/cvxpy/problems/problem.py:1387: UserWarning: Solution may be inaccurate. Try another solver, adjusting the solver settings, or solve with verbose=True for more information.\n",
      "  warnings.warn(\n",
      "/Users/arguiot/Developer/Pyratz/portfolio/env/lib/python3.10/site-packages/pypfopt/efficient_frontier/efficient_frontier.py:441: UserWarning: The risk_free_rate provided to portfolio_performance is different to the one used by max_sharpe. Using the previous value.\n",
      "  warnings.warn(\n",
      "/Users/arguiot/Developer/Pyratz/portfolio/env/lib/python3.10/site-packages/cvxpy/problems/problem.py:1387: UserWarning: Solution may be inaccurate. Try another solver, adjusting the solver settings, or solve with verbose=True for more information.\n",
      "  warnings.warn(\n",
      "/Users/arguiot/Developer/Pyratz/portfolio/env/lib/python3.10/site-packages/pypfopt/efficient_frontier/efficient_frontier.py:441: UserWarning: The risk_free_rate provided to portfolio_performance is different to the one used by max_sharpe. Using the previous value.\n",
      "  warnings.warn(\n",
      "/Users/arguiot/Developer/Pyratz/portfolio/env/lib/python3.10/site-packages/pypfopt/efficient_frontier/efficient_frontier.py:441: UserWarning: The risk_free_rate provided to portfolio_performance is different to the one used by max_sharpe. Using the previous value.\n",
      "  warnings.warn(\n",
      "/Users/arguiot/Developer/Pyratz/portfolio/env/lib/python3.10/site-packages/pypfopt/efficient_frontier/efficient_frontier.py:441: UserWarning: The risk_free_rate provided to portfolio_performance is different to the one used by max_sharpe. Using the previous value.\n",
      "  warnings.warn(\n"
     ]
    },
    {
     "name": "stdout",
     "output_type": "stream",
     "text": [
      "[-6.27950398e-12 -1.19626195e-16 -2.72656736e-15 -4.59956961e-13\n",
      " -4.88999961e-05  4.89000092e-05 -2.06482330e-15 -2.02226123e-15\n",
      " -2.35134534e-14 -3.22991386e-16 -5.40550604e-15 -4.86361132e-15]\n",
      "optimal\n",
      "Setting up the Markowitz object\n",
      "[-1.23529164e-11 -2.33332276e-16 -5.29471235e-15 -9.07074822e-13\n",
      " -7.84279850e-05  7.84280107e-05 -4.45305268e-15 -4.02034054e-15\n",
      " -4.59064730e-14 -6.59864265e-16 -9.72190661e-15 -9.82486145e-15]\n",
      "optimal\n",
      "Setting up the Markowitz object\n",
      "[ 9.88630620e-06  6.11861732e-11  1.34186604e-09  2.60862840e-07\n",
      " -5.09442308e-06 -5.07724853e-06  1.19033957e-09  1.03222572e-09\n",
      "  1.20441678e-08  1.77930420e-10  2.66011420e-09  2.64071935e-09]\n",
      "optimal\n",
      "Setting up the Markowitz object\n",
      "[ 1.69906089e-07  6.90753356e-10  1.56025316e-08  9.75115647e-06\n",
      "  1.28720438e-07  6.89363352e-07  1.39669461e-08  1.21874081e-08\n",
      "  1.46054489e-07 -1.03440997e-06  3.24053955e-08  3.09950557e-08]\n",
      "optimal\n",
      "Setting up the Markowitz object\n",
      "[-1.83540128e-05 -9.01507710e-17 -2.05671326e-15 -4.24400514e-13\n",
      " -1.57433955e-04 -1.77537123e-05 -1.80849436e-15 -1.54755152e-15\n",
      " -1.89298010e-14  2.03541687e-04 -3.97989691e-15 -4.05744335e-15]\n",
      "optimal\n",
      "Setting up the Markowitz object\n",
      "[ 1.10611520e-12 -3.57322781e-22 -8.08260216e-21 -1.73726731e-18\n",
      " -4.61763568e-21 -1.10594867e-12 -7.50478681e-21 -6.26488866e-21\n",
      " -7.54020643e-20 -1.10118717e-21 -1.44730302e-20 -1.58201451e-20]\n",
      "optimal\n",
      "Setting up the Markowitz object\n"
     ]
    },
    {
     "name": "stderr",
     "output_type": "stream",
     "text": [
      "/Users/arguiot/Developer/Pyratz/portfolio/env/lib/python3.10/site-packages/pypfopt/efficient_frontier/efficient_frontier.py:441: UserWarning: The risk_free_rate provided to portfolio_performance is different to the one used by max_sharpe. Using the previous value.\n",
      "  warnings.warn(\n",
      "/Users/arguiot/Developer/Pyratz/portfolio/env/lib/python3.10/site-packages/pypfopt/efficient_frontier/efficient_frontier.py:441: UserWarning: The risk_free_rate provided to portfolio_performance is different to the one used by max_sharpe. Using the previous value.\n",
      "  warnings.warn(\n",
      "/Users/arguiot/Developer/Pyratz/portfolio/env/lib/python3.10/site-packages/pypfopt/efficient_frontier/efficient_frontier.py:441: UserWarning: The risk_free_rate provided to portfolio_performance is different to the one used by max_sharpe. Using the previous value.\n",
      "  warnings.warn(\n",
      "/Users/arguiot/Developer/Pyratz/portfolio/env/lib/python3.10/site-packages/pypfopt/efficient_frontier/efficient_frontier.py:441: UserWarning: The risk_free_rate provided to portfolio_performance is different to the one used by max_sharpe. Using the previous value.\n",
      "  warnings.warn(\n",
      "/Users/arguiot/Developer/Pyratz/portfolio/env/lib/python3.10/site-packages/pypfopt/efficient_frontier/efficient_frontier.py:441: UserWarning: The risk_free_rate provided to portfolio_performance is different to the one used by max_sharpe. Using the previous value.\n",
      "  warnings.warn(\n",
      "/Users/arguiot/Developer/Pyratz/portfolio/env/lib/python3.10/site-packages/pypfopt/efficient_frontier/efficient_frontier.py:441: UserWarning: The risk_free_rate provided to portfolio_performance is different to the one used by max_sharpe. Using the previous value.\n",
      "  warnings.warn(\n",
      "/Users/arguiot/Developer/Pyratz/portfolio/env/lib/python3.10/site-packages/pypfopt/efficient_frontier/efficient_frontier.py:441: UserWarning: The risk_free_rate provided to portfolio_performance is different to the one used by max_sharpe. Using the previous value.\n",
      "  warnings.warn(\n"
     ]
    },
    {
     "name": "stdout",
     "output_type": "stream",
     "text": [
      "[ 1.45095047e-12 -4.70148458e-22 -9.88891860e-21 -2.14584766e-18\n",
      " -5.62253571e-21 -1.45083945e-12 -9.19306410e-21 -7.92006818e-21\n",
      " -9.50100802e-20 -1.36901704e-21 -2.22221440e-20 -1.99197838e-20]\n",
      "optimal\n",
      "Setting up the Markowitz object\n",
      "[-9.07260630e-05 -2.36876357e-08 -4.51440979e-07  9.09907147e-06\n",
      " -2.49826267e-07 -9.15936998e-05  2.42987385e-05 -3.97387122e-07\n",
      " -4.53200099e-06  1.58648593e-04 -1.55575139e-06 -1.09817375e-06]\n",
      "optimal\n",
      "Setting up the Markowitz object\n",
      "[ 1.88737914e-15 -1.87697294e-24 -3.50435048e-23 -1.80411242e-15\n",
      " -1.91468736e-23 -1.52427893e-21 -3.40209282e-23 -3.18328962e-23\n",
      " -4.31089012e-22 -5.04935879e-24 -1.25663388e-22 -8.62483449e-23]\n",
      "optimal\n",
      "Setting up the Markowitz object\n",
      "[-8.41712553e-06  6.64009239e-11  1.42935805e-09  9.79987441e-06\n",
      "  7.46881355e-10  3.46307104e-07  1.29986095e-09  1.24788932e-09\n",
      "  3.88227804e-08 -1.78793583e-06  6.16927067e-09  5.06877850e-09]\n",
      "optimal\n",
      "Setting up the Markowitz object\n",
      "[-1.58530004e-04 -3.84457543e-08 -6.91132787e-07  5.21112450e-06\n",
      " -4.32247556e-07 -1.58629702e-04 -6.90314804e-07 -6.58465576e-07\n",
      " -7.83270044e-06  3.28802826e-04 -2.28634325e-06 -1.98249946e-06]\n",
      "optimal\n",
      "Setting up the Markowitz object\n",
      "[-7.45938819e-06  2.88671362e-10  5.60280418e-09  9.33230392e-06\n",
      "  3.32263978e-09  4.71406077e-07  5.17232776e-09  5.00601632e-09\n",
      "  7.77545059e-08 -2.49086443e-06  1.73719455e-08  1.49137364e-08]\n",
      "optimal\n",
      "Setting up the Markowitz object\n",
      "[-8.68183558e-05 -1.58677154e-08 -3.10495065e-07  7.52223070e-06\n",
      " -1.63803327e-07 -8.99030501e-06 -2.70774165e-07 -2.81266546e-07\n",
      " -3.24323523e-06  9.51805226e-05 -8.96153185e-07 -7.50659308e-07]\n",
      "optimal\n"
     ]
    },
    {
     "name": "stderr",
     "output_type": "stream",
     "text": [
      "/Users/arguiot/Developer/Pyratz/portfolio/env/lib/python3.10/site-packages/pypfopt/efficient_frontier/efficient_frontier.py:441: UserWarning: The risk_free_rate provided to portfolio_performance is different to the one used by max_sharpe. Using the previous value.\n",
      "  warnings.warn(\n",
      "/Users/arguiot/Developer/Pyratz/portfolio/env/lib/python3.10/site-packages/pypfopt/efficient_frontier/efficient_frontier.py:441: UserWarning: The risk_free_rate provided to portfolio_performance is different to the one used by max_sharpe. Using the previous value.\n",
      "  warnings.warn(\n",
      "/Users/arguiot/Developer/Pyratz/portfolio/env/lib/python3.10/site-packages/pypfopt/efficient_frontier/efficient_frontier.py:441: UserWarning: The risk_free_rate provided to portfolio_performance is different to the one used by max_sharpe. Using the previous value.\n",
      "  warnings.warn(\n",
      "/Users/arguiot/Developer/Pyratz/portfolio/env/lib/python3.10/site-packages/pypfopt/efficient_frontier/efficient_frontier.py:441: UserWarning: The risk_free_rate provided to portfolio_performance is different to the one used by max_sharpe. Using the previous value.\n",
      "  warnings.warn(\n",
      "/Users/arguiot/Developer/Pyratz/portfolio/env/lib/python3.10/site-packages/pypfopt/efficient_frontier/efficient_frontier.py:441: UserWarning: The risk_free_rate provided to portfolio_performance is different to the one used by max_sharpe. Using the previous value.\n",
      "  warnings.warn(\n",
      "/Users/arguiot/Developer/Pyratz/portfolio/env/lib/python3.10/site-packages/pypfopt/efficient_frontier/efficient_frontier.py:441: UserWarning: The risk_free_rate provided to portfolio_performance is different to the one used by max_sharpe. Using the previous value.\n",
      "  warnings.warn(\n",
      "/Users/arguiot/Developer/Pyratz/portfolio/env/lib/python3.10/site-packages/pypfopt/efficient_frontier/efficient_frontier.py:441: UserWarning: The risk_free_rate provided to portfolio_performance is different to the one used by max_sharpe. Using the previous value.\n",
      "  warnings.warn(\n",
      "/Users/arguiot/Developer/Pyratz/portfolio/env/lib/python3.10/site-packages/pypfopt/efficient_frontier/efficient_frontier.py:441: UserWarning: The risk_free_rate provided to portfolio_performance is different to the one used by max_sharpe. Using the previous value.\n",
      "  warnings.warn(\n"
     ]
    },
    {
     "name": "stdout",
     "output_type": "stream",
     "text": [
      "Setting up the Markowitz object\n",
      "[-8.43793203e-05 -1.22451503e-08 -2.47639939e-07  8.74311970e-06\n",
      " -1.34873405e-07 -7.35766088e-06 -2.17138173e-07 -2.19507228e-07\n",
      " -2.49017452e-06  8.84368155e-05 -7.40463724e-07 -5.95960662e-07]\n",
      "optimal\n",
      "Setting up the Markowitz object\n",
      "[2.22044605e-16 2.31433837e-29 4.72110009e-28 1.07960205e-25\n",
      " 2.61920871e-28 1.99335272e-26 4.23556857e-28 4.06712959e-28\n",
      " 5.19401553e-27 7.75629429e-29 1.44141298e-27 1.11012209e-27]\n",
      "optimal\n",
      "Setting up the Markowitz object\n",
      "[0.00000000e+00 7.13075719e-30 1.44072413e-28 3.43723319e-26\n",
      " 8.17544263e-29 6.44725980e-27 1.27204641e-28 1.27748353e-28\n",
      " 1.56302249e-27 2.47064887e-29 4.23014930e-28 3.38902103e-28]\n",
      "optimal\n",
      "Setting up the Markowitz object\n",
      "[-1.11022302e-16  3.03203908e-29  6.22621345e-28  1.58274174e-25\n",
      "  3.40896896e-28  2.97800207e-26  5.82244936e-28  5.67794277e-28\n",
      "  6.99556078e-27  1.05401015e-28  1.90685893e-27  1.52565070e-27]\n",
      "optimal\n",
      "Setting up the Markowitz object\n",
      "[2.22044605e-16 2.72637731e-29 5.48863954e-28 1.35091236e-25\n",
      " 2.86221494e-28 2.49985982e-26 4.43045617e-28 4.57601347e-28\n",
      " 5.53133188e-27 8.35304378e-29 1.58402799e-27 1.30478681e-27]\n",
      "optimal\n",
      "Setting up the Markowitz object\n",
      "[-1.11022302e-16  2.85852011e-29  5.47883320e-28  1.32252373e-25\n",
      "  2.70972132e-28  2.28573376e-26  4.42422155e-28  4.61075005e-28\n",
      "  5.38879881e-27  8.07219440e-29  1.53216718e-27  1.29234403e-27]\n",
      "optimal\n",
      "Setting up the Markowitz object\n",
      "[0.00000000e+00 3.63263180e-29 6.72832271e-28 1.74320317e-25\n",
      " 3.42724231e-28 2.92458735e-26 5.57583007e-28 5.77923284e-28\n",
      " 7.19063192e-27 1.03846728e-28 1.88605790e-27 1.64430628e-27]\n",
      "optimal\n",
      "Setting up the Markowitz object\n",
      "[ 9.32587341e-15 -4.76423722e-24 -8.41646804e-23 -9.15933995e-15\n",
      " -3.82413710e-23 -3.50018387e-21 -6.58634381e-23 -7.14459384e-23\n",
      " -8.67770408e-22 -1.23096815e-23 -2.52796110e-22 -2.00464414e-22]\n",
      "optimal\n",
      "Setting up the Markowitz object\n"
     ]
    },
    {
     "name": "stderr",
     "output_type": "stream",
     "text": [
      "/Users/arguiot/Developer/Pyratz/portfolio/env/lib/python3.10/site-packages/pypfopt/efficient_frontier/efficient_frontier.py:441: UserWarning: The risk_free_rate provided to portfolio_performance is different to the one used by max_sharpe. Using the previous value.\n",
      "  warnings.warn(\n",
      "/Users/arguiot/Developer/Pyratz/portfolio/env/lib/python3.10/site-packages/pypfopt/efficient_frontier/efficient_frontier.py:441: UserWarning: The risk_free_rate provided to portfolio_performance is different to the one used by max_sharpe. Using the previous value.\n",
      "  warnings.warn(\n",
      "/Users/arguiot/Developer/Pyratz/portfolio/env/lib/python3.10/site-packages/pypfopt/efficient_frontier/efficient_frontier.py:441: UserWarning: The risk_free_rate provided to portfolio_performance is different to the one used by max_sharpe. Using the previous value.\n",
      "  warnings.warn(\n",
      "/Users/arguiot/Developer/Pyratz/portfolio/env/lib/python3.10/site-packages/pypfopt/efficient_frontier/efficient_frontier.py:441: UserWarning: The risk_free_rate provided to portfolio_performance is different to the one used by max_sharpe. Using the previous value.\n",
      "  warnings.warn(\n",
      "/Users/arguiot/Developer/Pyratz/portfolio/env/lib/python3.10/site-packages/pypfopt/efficient_frontier/efficient_frontier.py:441: UserWarning: The risk_free_rate provided to portfolio_performance is different to the one used by max_sharpe. Using the previous value.\n",
      "  warnings.warn(\n",
      "/Users/arguiot/Developer/Pyratz/portfolio/env/lib/python3.10/site-packages/pypfopt/efficient_frontier/efficient_frontier.py:441: UserWarning: The risk_free_rate provided to portfolio_performance is different to the one used by max_sharpe. Using the previous value.\n",
      "  warnings.warn(\n",
      "/Users/arguiot/Developer/Pyratz/portfolio/env/lib/python3.10/site-packages/pypfopt/efficient_frontier/efficient_frontier.py:441: UserWarning: The risk_free_rate provided to portfolio_performance is different to the one used by max_sharpe. Using the previous value.\n",
      "  warnings.warn(\n",
      "/Users/arguiot/Developer/Pyratz/portfolio/env/lib/python3.10/site-packages/pypfopt/efficient_frontier/efficient_frontier.py:441: UserWarning: The risk_free_rate provided to portfolio_performance is different to the one used by max_sharpe. Using the previous value.\n",
      "  warnings.warn(\n"
     ]
    },
    {
     "name": "stdout",
     "output_type": "stream",
     "text": [
      "[-1.77733971e-05  3.60703738e-05  3.42486788e-17  8.93620511e-15\n",
      "  1.62242972e-17  1.58259896e-15  2.62239125e-17  2.83520303e-17\n",
      "  3.37580334e-16  4.88668846e-18 -1.82969768e-05  8.21641792e-17]\n",
      "optimal\n",
      "Setting up the Markowitz object\n",
      "[-8.66075221e-05  3.56271306e-09 -1.59502082e-07  7.96405404e-06\n",
      " -6.00071699e-08 -5.51690340e-06 -1.25023024e-07 -1.34126253e-07\n",
      " -1.51034265e-06 -1.56111025e-08  8.71850558e-05 -3.84555791e-07]\n",
      "optimal\n",
      "Setting up the Markowitz object\n",
      "[0.00000000e+00 5.57120577e-29 1.01771085e-27 2.78868025e-25\n",
      " 3.22742544e-28 4.73555199e-26 7.77698968e-28 8.28686055e-28\n",
      " 1.02458959e-26 1.43459622e-28 3.22405451e-27 2.43891716e-27]\n",
      "optimal\n",
      "Setting up the Markowitz object\n",
      "[-3.90529099e-06  6.02279357e-07  5.09762394e-10  2.52880301e-07\n",
      "  1.80193656e-06  2.21912218e-08 -1.06894096e-09  2.98891992e-09\n",
      "  1.58266450e-08  1.20445786e-06  5.81652741e-10  4.13116938e-10]\n",
      "optimal\n",
      "Setting up the Markowitz object\n",
      "[-5.95928206e-05  5.04968537e-06  2.53774246e-05  3.53324657e-06\n",
      "  1.99246763e-05 -6.25717240e-05  2.85533839e-05  2.83463235e-05\n",
      "  1.10273409e-07  1.11420902e-05  7.07587302e-08  1.14188092e-08]\n",
      "optimal\n",
      "Setting up the Markowitz object\n",
      "[-3.33333117e-06 -1.96217427e-22 -3.44578587e-21 -3.33333055e-06\n",
      " -8.30448952e-22 -3.33333827e-06 -2.69925057e-21 -2.85641894e-21\n",
      " -3.51262595e-20 -4.92770923e-22 -1.09203984e-20 -7.78462351e-21]\n",
      "optimal\n",
      "Setting up the Markowitz object\n",
      "[ 5.99520433e-15 -3.80233263e-24 -6.49452120e-23 -6.10622664e-15\n",
      " -1.77454697e-23 -3.10376600e-21 -5.14452665e-23 -5.38363141e-23\n",
      " -6.43012280e-22 -9.09999982e-24 -2.14100947e-22 -1.47557566e-22]\n",
      "optimal\n",
      "Setting up the Markowitz object\n",
      "[ 4.99600361e-15 -2.60557500e-24 -4.95947340e-23 -5.05151476e-15\n",
      " -1.34575080e-23 -2.25600334e-21 -3.84715130e-23 -4.27238666e-23\n",
      " -4.97666703e-22 -5.77708051e-24 -1.48174573e-22 -1.10156907e-22]\n",
      "optimal\n",
      "Setting up the Markowitz object\n",
      "[ 1.77635684e-15 -8.31679538e-25 -1.64657977e-23 -1.85962357e-15\n",
      " -4.44484552e-24 -7.62593590e-22 -1.41022180e-23 -1.41090398e-23\n",
      " -1.59369127e-22 -1.91317572e-24 -4.88075597e-23 -3.62320404e-23]\n",
      "optimal\n",
      "Setting up the Markowitz object\n"
     ]
    },
    {
     "name": "stderr",
     "output_type": "stream",
     "text": [
      "/Users/arguiot/Developer/Pyratz/portfolio/env/lib/python3.10/site-packages/pypfopt/efficient_frontier/efficient_frontier.py:441: UserWarning: The risk_free_rate provided to portfolio_performance is different to the one used by max_sharpe. Using the previous value.\n",
      "  warnings.warn(\n",
      "/Users/arguiot/Developer/Pyratz/portfolio/env/lib/python3.10/site-packages/pypfopt/efficient_frontier/efficient_frontier.py:441: UserWarning: The risk_free_rate provided to portfolio_performance is different to the one used by max_sharpe. Using the previous value.\n",
      "  warnings.warn(\n",
      "/Users/arguiot/Developer/Pyratz/portfolio/env/lib/python3.10/site-packages/pypfopt/efficient_frontier/efficient_frontier.py:441: UserWarning: The risk_free_rate provided to portfolio_performance is different to the one used by max_sharpe. Using the previous value.\n",
      "  warnings.warn(\n",
      "/Users/arguiot/Developer/Pyratz/portfolio/env/lib/python3.10/site-packages/pypfopt/efficient_frontier/efficient_frontier.py:441: UserWarning: The risk_free_rate provided to portfolio_performance is different to the one used by max_sharpe. Using the previous value.\n",
      "  warnings.warn(\n",
      "/Users/arguiot/Developer/Pyratz/portfolio/env/lib/python3.10/site-packages/pypfopt/efficient_frontier/efficient_frontier.py:441: UserWarning: The risk_free_rate provided to portfolio_performance is different to the one used by max_sharpe. Using the previous value.\n",
      "  warnings.warn(\n",
      "/Users/arguiot/Developer/Pyratz/portfolio/env/lib/python3.10/site-packages/pypfopt/efficient_frontier/efficient_frontier.py:441: UserWarning: The risk_free_rate provided to portfolio_performance is different to the one used by max_sharpe. Using the previous value.\n",
      "  warnings.warn(\n",
      "/Users/arguiot/Developer/Pyratz/portfolio/env/lib/python3.10/site-packages/pypfopt/efficient_frontier/efficient_frontier.py:441: UserWarning: The risk_free_rate provided to portfolio_performance is different to the one used by max_sharpe. Using the previous value.\n",
      "  warnings.warn(\n",
      "/Users/arguiot/Developer/Pyratz/portfolio/env/lib/python3.10/site-packages/pypfopt/efficient_frontier/efficient_frontier.py:441: UserWarning: The risk_free_rate provided to portfolio_performance is different to the one used by max_sharpe. Using the previous value.\n",
      "  warnings.warn(\n",
      "/Users/arguiot/Developer/Pyratz/portfolio/env/lib/python3.10/site-packages/pypfopt/efficient_frontier/efficient_frontier.py:441: UserWarning: The risk_free_rate provided to portfolio_performance is different to the one used by max_sharpe. Using the previous value.\n",
      "  warnings.warn(\n"
     ]
    },
    {
     "name": "stdout",
     "output_type": "stream",
     "text": [
      "[-1.36277669e-07  6.96215356e-11  9.81193200e-10  8.13243569e-08\n",
      "  3.30469723e-10  5.86279902e-08  9.16209557e-10  9.35978676e-10\n",
      " -1.01329022e-08  1.55519479e-10  1.11043723e-09  1.31422654e-09]\n",
      "optimal\n",
      "Setting up the Markowitz object\n",
      "[2.22044605e-16 1.04313250e-29 2.32201880e-28 6.87332576e-26\n",
      " 5.70776777e-29 8.83779901e-27 1.99405351e-28 1.90994048e-28\n",
      " 2.43467672e-27 2.41375351e-29 6.63750372e-28 4.64015478e-28]\n",
      "optimal\n",
      "Setting up the Markowitz object\n",
      "[2.22044605e-16 2.18486098e-29 4.66269749e-28 1.40280759e-25\n",
      " 1.10370682e-28 1.77694609e-26 3.94278588e-28 3.85375004e-28\n",
      " 5.53533201e-27 5.11345973e-29 1.64485601e-27 1.02568959e-27]\n",
      "optimal\n",
      "Setting up the Markowitz object\n",
      "[ 1.46630068e-07 -7.25872684e-19 -1.54034070e-17  1.49603947e-07\n",
      " -3.43325635e-18 -5.59374120e-16 -1.29131500e-17 -1.20858657e-17\n",
      " -1.75793063e-16 -1.77869330e-18 -2.96233947e-07 -3.30107163e-17]\n",
      "optimal\n",
      "Setting up the Markowitz object\n",
      "[-2.57649704e-04  5.13122818e-05  1.40513530e-04 -2.60476779e-04\n",
      "  1.97743268e-04  5.90011584e-06  2.39793060e-04  2.66696028e-04\n",
      "  1.58000670e-06  1.13618487e-04 -5.03950624e-04  4.07673346e-06]\n",
      "optimal\n",
      "Setting up the Markowitz object\n"
     ]
    },
    {
     "name": "stderr",
     "output_type": "stream",
     "text": [
      "/Users/arguiot/Developer/Pyratz/portfolio/env/lib/python3.10/site-packages/pypfopt/efficient_frontier/efficient_frontier.py:441: UserWarning: The risk_free_rate provided to portfolio_performance is different to the one used by max_sharpe. Using the previous value.\n",
      "  warnings.warn(\n",
      "/Users/arguiot/Developer/Pyratz/portfolio/env/lib/python3.10/site-packages/pypfopt/efficient_frontier/efficient_frontier.py:441: UserWarning: The risk_free_rate provided to portfolio_performance is different to the one used by max_sharpe. Using the previous value.\n",
      "  warnings.warn(\n",
      "/Users/arguiot/Developer/Pyratz/portfolio/env/lib/python3.10/site-packages/pypfopt/efficient_frontier/efficient_frontier.py:441: UserWarning: The risk_free_rate provided to portfolio_performance is different to the one used by max_sharpe. Using the previous value.\n",
      "  warnings.warn(\n",
      "/Users/arguiot/Developer/Pyratz/portfolio/env/lib/python3.10/site-packages/pypfopt/efficient_frontier/efficient_frontier.py:441: UserWarning: The risk_free_rate provided to portfolio_performance is different to the one used by max_sharpe. Using the previous value.\n",
      "  warnings.warn(\n",
      "/Users/arguiot/Developer/Pyratz/portfolio/env/lib/python3.10/site-packages/pypfopt/efficient_frontier/efficient_frontier.py:441: UserWarning: The risk_free_rate provided to portfolio_performance is different to the one used by max_sharpe. Using the previous value.\n",
      "  warnings.warn(\n"
     ]
    },
    {
     "name": "stdout",
     "output_type": "stream",
     "text": [
      "[ 2.40804194e-06 -3.05126044e-18 -7.66653047e-17  2.41945670e-06\n",
      " -1.47267576e-17 -2.36507737e-15 -8.04832470e-06 -5.12162777e-17\n",
      " -7.27582038e-16 -7.00995139e-18  3.22082635e-06 -1.29210845e-16]\n",
      "optimal\n",
      "Setting up the Markowitz object\n",
      "[-9.13731397e-05  2.02727413e-04  3.85145071e-17 -9.13788239e-05\n",
      "  7.96723970e-18  1.29556897e-15 -1.35232846e-04  2.64981798e-17\n",
      "  3.43171142e-16  1.96130804e-04 -9.08734073e-05  6.62799049e-17]\n",
      "optimal\n",
      "Setting up the Markowitz object\n",
      "[-3.35337002e-05 -3.83482414e-09 -9.69751013e-08  8.70296460e-06\n",
      " -1.91405989e-08 -2.41485826e-06  2.91096851e-05 -6.58202179e-08\n",
      " -8.06513437e-07 -8.95262316e-09 -3.18024868e-07 -1.60454420e-07]\n",
      "optimal\n",
      "Setting up the Markowitz object\n",
      "[-1.53193826e-04  5.43517699e-05  6.06307451e-07 -1.57211838e-04\n",
      "  1.85929889e-04  6.60957662e-07  7.50793039e-05  1.08258309e-04\n",
      " -4.64204630e-07  1.05480711e-04 -2.07964094e-04 -1.27216643e-06]\n",
      "optimal\n",
      "Setting up the Markowitz object\n",
      "[ 4.88498131e-15 -2.54922550e-24 -5.86327814e-23 -4.60742555e-15\n",
      " -1.23741576e-23 -2.11315735e-21 -4.49398774e-23 -4.40043846e-23\n",
      " -5.53099221e-22 -5.35349284e-24 -1.98021912e-22 -9.85852328e-23]\n",
      "optimal\n",
      "Setting up the Markowitz object\n",
      "[ 1.77635684e-15 -9.94922016e-25 -2.31732645e-23 -1.83186799e-15\n",
      " -4.79746753e-24 -8.32132445e-22 -1.70508035e-23 -1.65432549e-23\n",
      " -2.14103613e-22 -2.09906815e-24 -7.56392308e-23 -3.84826383e-23]\n",
      "optimal\n",
      "Setting up the Markowitz object\n",
      "[-8.34025326e-06  1.83438066e-05 -1.14490733e-05 -8.34477723e-06\n",
      "  3.88085911e-06  1.32063332e-15  2.66592190e-17  2.61311400e-17\n",
      "  3.46546169e-16  1.59094379e-05  1.19909983e-16  6.06636963e-17]\n",
      "optimal\n",
      "Setting up the Markowitz object\n",
      "[-7.16096638e-06  2.57039875e-10 -2.36720468e-06  9.08802234e-06\n",
      "  1.18620975e-09  3.16770356e-07  3.96819811e-09  3.82361778e-09\n",
      "  6.25285053e-08  5.58136466e-10  1.82236027e-08  8.69841873e-09]\n",
      "optimal\n",
      "Setting up the Markowitz object\n"
     ]
    },
    {
     "name": "stderr",
     "output_type": "stream",
     "text": [
      "/Users/arguiot/Developer/Pyratz/portfolio/env/lib/python3.10/site-packages/pypfopt/efficient_frontier/efficient_frontier.py:441: UserWarning: The risk_free_rate provided to portfolio_performance is different to the one used by max_sharpe. Using the previous value.\n",
      "  warnings.warn(\n",
      "/Users/arguiot/Developer/Pyratz/portfolio/env/lib/python3.10/site-packages/pypfopt/efficient_frontier/efficient_frontier.py:441: UserWarning: The risk_free_rate provided to portfolio_performance is different to the one used by max_sharpe. Using the previous value.\n",
      "  warnings.warn(\n",
      "/Users/arguiot/Developer/Pyratz/portfolio/env/lib/python3.10/site-packages/pypfopt/efficient_frontier/efficient_frontier.py:441: UserWarning: The risk_free_rate provided to portfolio_performance is different to the one used by max_sharpe. Using the previous value.\n",
      "  warnings.warn(\n",
      "/Users/arguiot/Developer/Pyratz/portfolio/env/lib/python3.10/site-packages/pypfopt/efficient_frontier/efficient_frontier.py:441: UserWarning: The risk_free_rate provided to portfolio_performance is different to the one used by max_sharpe. Using the previous value.\n",
      "  warnings.warn(\n",
      "/Users/arguiot/Developer/Pyratz/portfolio/env/lib/python3.10/site-packages/pypfopt/efficient_frontier/efficient_frontier.py:441: UserWarning: The risk_free_rate provided to portfolio_performance is different to the one used by max_sharpe. Using the previous value.\n",
      "  warnings.warn(\n",
      "/Users/arguiot/Developer/Pyratz/portfolio/env/lib/python3.10/site-packages/pypfopt/efficient_frontier/efficient_frontier.py:441: UserWarning: The risk_free_rate provided to portfolio_performance is different to the one used by max_sharpe. Using the previous value.\n",
      "  warnings.warn(\n",
      "/Users/arguiot/Developer/Pyratz/portfolio/env/lib/python3.10/site-packages/pypfopt/efficient_frontier/efficient_frontier.py:441: UserWarning: The risk_free_rate provided to portfolio_performance is different to the one used by max_sharpe. Using the previous value.\n",
      "  warnings.warn(\n",
      "/Users/arguiot/Developer/Pyratz/portfolio/env/lib/python3.10/site-packages/pypfopt/efficient_frontier/efficient_frontier.py:441: UserWarning: The risk_free_rate provided to portfolio_performance is different to the one used by max_sharpe. Using the previous value.\n",
      "  warnings.warn(\n"
     ]
    },
    {
     "name": "stdout",
     "output_type": "stream",
     "text": [
      "[-9.85131684e-05 -1.34780447e-08  1.18171776e-04 -3.57824307e-06\n",
      " -6.26919896e-08 -9.32114189e-06 -2.33114067e-07 -2.19844444e-07\n",
      " -3.22734888e-06 -2.84942881e-08 -1.04458218e-06 -4.82751054e-07]\n",
      "optimal\n",
      "Setting up the Markowitz object\n",
      "[-6.20140947e-06  3.27460343e-12  2.93020295e-06  9.88514729e-06\n",
      "  2.42891023e-11  9.86095680e-08  6.21779307e-11  5.42169800e-11\n",
      " -6.71432218e-06  9.13695705e-12  1.07710519e-09  2.23846801e-10]\n",
      "optimal\n",
      "Setting up the Markowitz object\n",
      "[-3.48508737e-06  4.58421682e-10 -3.55494086e-06  9.92832127e-06\n",
      "  1.97998976e-09  4.05082986e-07  7.31375299e-09  6.78135578e-09\n",
      "  1.15914243e-07  9.91151265e-10 -3.49089074e-06  1.73962958e-08]\n",
      "optimal\n",
      "Setting up the Markowitz object\n",
      "[ 9.87032239e-06  2.29668677e-11 -3.35291300e-06  1.51176048e-07\n",
      "  1.03154351e-10  1.93166290e-08  3.79856165e-10  3.47207395e-10\n",
      " -3.34511383e-06  4.81023986e-11 -3.34703755e-06  8.50527930e-10]\n",
      "optimal\n"
     ]
    },
    {
     "name": "stderr",
     "output_type": "stream",
     "text": [
      "/Users/arguiot/Developer/Pyratz/portfolio/env/lib/python3.10/site-packages/pypfopt/efficient_frontier/efficient_frontier.py:441: UserWarning: The risk_free_rate provided to portfolio_performance is different to the one used by max_sharpe. Using the previous value.\n",
      "  warnings.warn(\n",
      "/Users/arguiot/Developer/Pyratz/portfolio/portfolio_optimization/backtesting/Backtesting.py:313: SettingWithCopyWarning: \n",
      "A value is trying to be set on a copy of a slice from a DataFrame.\n",
      "Try using .loc[row_indexer,col_indexer] = value instead\n",
      "\n",
      "See the caveats in the documentation: https://pandas.pydata.org/pandas-docs/stable/user_guide/indexing.html#returning-a-view-versus-a-copy\n",
      "  value[\"Daily Return\"] = daily_return\n"
     ]
    }
   ],
   "source": [
    "perfs = backtest.run_backtest(\n",
    "    look_back_period=120,\n",
    "    look_back_unit=\"D\",\n",
    "    yield_data=yield_data,\n",
    ")\n",
    "\n",
    "# Check if the directory exists, if not, create it\n",
    "if not os.path.exists(f\"./out/{rebalance_frequency}_parity/\"):\n",
    "    os.makedirs(f\"./out/{rebalance_frequency}_parity/\")\n",
    "\n",
    "backtest.export_results(\n",
    "    perfs, f\"./out/{rebalance_frequency}_parity/\", f\"backtest_results_{asset_class}.xlsx\"\n",
    ")"
   ]
  }
 ],
 "metadata": {
  "kernelspec": {
   "display_name": "env",
   "language": "python",
   "name": "python3"
  },
  "language_info": {
   "codemirror_mode": {
    "name": "ipython",
    "version": 3
   },
   "file_extension": ".py",
   "mimetype": "text/x-python",
   "name": "python",
   "nbconvert_exporter": "python",
   "pygments_lexer": "ipython3",
   "version": "3.10.13"
  },
  "orig_nbformat": 4
 },
 "nbformat": 4,
 "nbformat_minor": 2
}
