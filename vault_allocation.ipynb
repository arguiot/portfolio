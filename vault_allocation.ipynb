{
 "cells": [
  {
   "cell_type": "code",
   "execution_count": 2,
   "metadata": {},
   "outputs": [
    {
     "name": "stdout",
     "output_type": "stream",
     "text": [
      "mu (%): 0    4.0\n",
      "1    4.0\n",
      "2    4.0\n",
      "dtype: float64\n",
      " \n",
      "Recovery (%): 0    50.0\n",
      "1    50.0\n",
      "2    50.0\n",
      "dtype: float64\n",
      " \n",
      "lambda (%): 0    20.0\n",
      "1    50.0\n",
      "2    50.0\n",
      "dtype: float64\n",
      " \n",
      "D range: [33.336666666666666, 99.99]\n",
      "{'Expected loss (%)': 15.37, 'Yield (%)': 4.0, 'Diversification (%)': 70.0}\n"
     ]
    },
    {
     "data": {
      "text/plain": [
       "[Text(0.5, 0, 'weight (%)'), Text(0, 0.5, 'vault')]"
      ]
     },
     "execution_count": 2,
     "metadata": {},
     "output_type": "execute_result"
    },
    {
     "data": {
      "image/png": "[encoded data removed]",
      "text/plain": [
       "<Figure size 640x480 with 1 Axes>"
      ]
     },
     "metadata": {},
     "output_type": "display_data"
    }
   ],
   "source": [
    "from portfolio_optimization.optimization.GeneralOptimization import (\n",
    "    GeneralOptimizationDelegate,\n",
    ")\n",
    "from portfolio_optimization.optimization.vault_allocation import VaultAllocation\n",
    "import numpy as np\n",
    "import pandas as pd\n",
    "import seaborn as sns\n",
    "\n",
    "# Yields\n",
    "mu = pd.Series(\n",
    "    [4 / 100, 4 / 100, 4 / 100]\n",
    ")\n",
    "\n",
    "print(\"mu (%):\", np.round(mu * 100, 2))\n",
    "print(\" \")\n",
    "\n",
    "# vector of recovery rates\n",
    "R = pd.Series(\n",
    "    [50 / 100, 50 / 100, 50 / 100]\n",
    ")\n",
    "\n",
    "\n",
    "print(\"Recovery (%):\", np.round(R * 100, 2))\n",
    "print(\" \")\n",
    "\n",
    "# vector of probability of default\n",
    "lmb = pd.Series(\n",
    "    [20 / 100, 50 / 100, 50 / 100]\n",
    ")\n",
    "\n",
    "print(\"lambda (%):\", np.round(lmb * 100, 2))\n",
    "print(\" \")\n",
    "\n",
    "# The parameter omega represents the risk aversion of the strategy and ranges from 0% to 100%\n",
    "# An allocation achieved at 100% would suit a risk-averse investor,\n",
    "# whereas one achieved at 0% would primarily focus on maximizing yield.\n",
    "omega = 60 / 100\n",
    "\n",
    "EPSILON_RANGE = 1/100/100 # (to avoid numerical issues at the boundaries)\n",
    "# The diversification factor D ranges from 1/n% * (1 + EPSILON_RANGE) to 100% * (1 - EPSILON_RANGE)\n",
    "minimumD = 1 / (len(mu) / 100) * (1 + EPSILON_RANGE)\n",
    "maximumD = 100 * (1 - EPSILON_RANGE)\n",
    "\n",
    "print(f\"D range: [{minimumD}, {maximumD}]\")\n",
    "\n",
    "D = 70 / 100\n",
    "\n",
    "portfolio = VaultAllocation(\n",
    "    df=pd.DataFrame(),\n",
    "    mcaps=None,\n",
    "    asset_weight_bounds={\"*\": (0, 1)}\n",
    ")\n",
    "\n",
    "\n",
    "class CustomVaultAllocationDelegate(GeneralOptimizationDelegate):\n",
    "\n",
    "    def setup(self, optimization_object: VaultAllocation):\n",
    "        optimization_object.yield_data = mu\n",
    "        optimization_object.recovery_rate = R\n",
    "        optimization_object.default_risk = lmb\n",
    "        optimization_object.risk = omega\n",
    "        optimization_object.diversification = D\n",
    "        return super().setup(optimization_object)\n",
    "\n",
    "\n",
    "portfolio.delegate = CustomVaultAllocationDelegate()\n",
    "\n",
    "pf = portfolio.get_weights()\n",
    "\n",
    "print(portfolio.get_metrics())\n",
    "\n",
    "portfolio_plot = np.reshape(pf, [-1, 1])\n",
    "portfolio_plot = pd.DataFrame(portfolio_plot, columns=np.array([\"w\"]))\n",
    "portfolio_plot.index = np.arange(0, len(mu.index))\n",
    "\n",
    "portfolio_plot[\"w\"] = np.round(pf * 100, 2)\n",
    "portfolio_plot[\"mu\"] = np.round(mu * 100, 2)\n",
    "\n",
    "ax = sns.barplot(\n",
    "    x=\"w\", y=portfolio_plot.index, data=portfolio_plot, orient=\"h\", saturation=0.7\n",
    ")\n",
    "\n",
    "ax.set(xlabel=\"weight (%)\", ylabel=\"vault\")"
   ]
  }
 ],
 "metadata": {
  "kernelspec": {
   "display_name": "venv",
   "language": "python",
   "name": "python3"
  },
  "language_info": {
   "codemirror_mode": {
    "name": "ipython",
    "version": 3
   },
   "file_extension": ".py",
   "mimetype": "text/x-python",
   "name": "python",
   "nbconvert_exporter": "python",
   "pygments_lexer": "ipython3",
   "version": "3.10.15"
  }
 },
 "nbformat": 4,
 "nbformat_minor": 2
}
