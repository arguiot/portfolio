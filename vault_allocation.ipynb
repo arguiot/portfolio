{
 "cells": [
  {
   "cell_type": "code",
   "execution_count": 1,
   "metadata": {},
   "outputs": [
    {
     "name": "stdout",
     "output_type": "stream",
     "text": [
      "mu (%): 0    1.0\n",
      "1    2.0\n",
      "2    2.5\n",
      "3    3.0\n",
      "4    3.5\n",
      "5    4.0\n",
      "6    5.0\n",
      "7    5.5\n",
      "dtype: float64\n",
      " \n",
      "Recovery (%): 0    30.0\n",
      "1    30.0\n",
      "2    30.0\n",
      "3    30.0\n",
      "4    30.0\n",
      "5    30.0\n",
      "6    30.0\n",
      "7    30.0\n",
      "dtype: float64\n",
      " \n",
      "lambda (%): 0     5.0\n",
      "1    10.0\n",
      "2    15.0\n",
      "3    25.0\n",
      "4    25.0\n",
      "5    40.0\n",
      "6    50.0\n",
      "7    70.0\n",
      "dtype: float64\n",
      " \n",
      "{'Expected loss (%)': 11.88, 'Yield (%)': 2.45, 'Diversification (%)': 70.0}\n"
     ]
    },
    {
     "data": {
      "text/plain": [
       "[Text(0.5, 0, 'weight (%)'), Text(0, 0.5, 'vault')]"
      ]
     },
     "execution_count": 1,
     "metadata": {},
     "output_type": "execute_result"
    },
    {
     "data": {
      "image/png": "[encoded data removed]",
      "text/plain": [
       "<Figure size 640x480 with 1 Axes>"
      ]
     },
     "metadata": {},
     "output_type": "display_data"
    }
   ],
   "source": [
    "from portfolio_optimization.optimization.GeneralOptimization import (\n",
    "    GeneralOptimizationDelegate,\n",
    ")\n",
    "from portfolio_optimization.optimization.vault_allocation import VaultAllocation\n",
    "import numpy as np\n",
    "import pandas as pd\n",
    "import seaborn as sns\n",
    "\n",
    "# Yields\n",
    "mu = pd.Series(\n",
    "    [1 / 100, 2 / 100, 2.5 / 100, 3 / 100, 3.5 / 100, 4 / 100, 5 / 100, 5.5 / 100]\n",
    ")\n",
    "\n",
    "print(\"mu (%):\", np.round(mu * 100, 2))\n",
    "print(\" \")\n",
    "\n",
    "# vector of recovery rates\n",
    "R = pd.Series(\n",
    "    [30 / 100, 30 / 100, 30 / 100, 30 / 100, 30 / 100, 30 / 100, 30 / 100, 30 / 100]\n",
    ")\n",
    "\n",
    "\n",
    "print(\"Recovery (%):\", np.round(R * 100, 2))\n",
    "print(\" \")\n",
    "\n",
    "# vector of probability of default\n",
    "lmb = pd.Series(\n",
    "    [5 / 100, 10 / 100, 15 / 100, 25 / 100, 25 / 100, 40 / 100, 50 / 100, 70 / 100]\n",
    ")\n",
    "\n",
    "print(\"lambda (%):\", np.round(lmb * 100, 2))\n",
    "print(\" \")\n",
    "\n",
    "# The parameter omega represents the risk aversion of the strategy and ranges from 0% to 100%\n",
    "# An allocation achieved at 100% would suit a risk-averse investor,\n",
    "# whereas one achieved at 0% would primarily focus on maximizing yield.\n",
    "omega = 60 / 100\n",
    "\n",
    "# EPSILON_RANGE = 1/100/100 (to avoid numerical issues at the boundaries)\n",
    "# The diversification factor D ranges from 1/n% * (1 + EPSILON_RANGE) to 100% * (1 - EPSILON_RANGE)\n",
    "D = 70 / 100\n",
    "\n",
    "\n",
    "portfolio = VaultAllocation(\n",
    "    df=pd.DataFrame(),\n",
    "    mcaps=None,\n",
    "    asset_weight_bounds={\"*\": (0, 1)}\n",
    ")\n",
    "\n",
    "\n",
    "class CustomVaultAllocationDelegate(GeneralOptimizationDelegate):\n",
    "\n",
    "    def setup(self, optimization_object: VaultAllocation):\n",
    "        optimization_object.yield_data = mu\n",
    "        optimization_object.recovery_rate = R\n",
    "        optimization_object.default_risk = lmb\n",
    "        optimization_object.risk = omega\n",
    "        optimization_object.diversification = D\n",
    "        return super().setup(optimization_object)\n",
    "\n",
    "\n",
    "portfolio.delegate = CustomVaultAllocationDelegate()\n",
    "\n",
    "pf = portfolio.get_weights()\n",
    "\n",
    "print(portfolio.get_metrics())\n",
    "\n",
    "portfolio_plot = np.reshape(pf, [-1, 1])\n",
    "portfolio_plot = pd.DataFrame(portfolio_plot, columns=np.array([\"w\"]))\n",
    "portfolio_plot.index = np.arange(0, len(mu.index))\n",
    "\n",
    "portfolio_plot[\"w\"] = np.round(pf * 100, 2)\n",
    "portfolio_plot[\"mu\"] = np.round(mu * 100, 2)\n",
    "\n",
    "ax = sns.barplot(\n",
    "    x=\"w\", y=portfolio_plot.index, data=portfolio_plot, orient=\"h\", saturation=0.7\n",
    ")\n",
    "\n",
    "ax.set(xlabel=\"weight (%)\", ylabel=\"vault\")"
   ]
  }
 ],
 "metadata": {
  "kernelspec": {
   "display_name": "venv",
   "language": "python",
   "name": "python3"
  },
  "language_info": {
   "codemirror_mode": {
    "name": "ipython",
    "version": 3
   },
   "file_extension": ".py",
   "mimetype": "text/x-python",
   "name": "python",
   "nbconvert_exporter": "python",
   "pygments_lexer": "ipython3",
   "version": "3.10.15"
  }
 },
 "nbformat": 4,
 "nbformat_minor": 2
}
