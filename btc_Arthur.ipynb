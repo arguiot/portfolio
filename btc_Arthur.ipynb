{
 "cells": [
  {
   "cell_type": "code",
   "execution_count": 1,
   "metadata": {},
   "outputs": [],
   "source": [
    "def clearall():\n",
    "    all = [var for var in globals() if var[0] != \"_\"]\n",
    "    for var in all:\n",
    "        del globals()[var]\n",
    "\n",
    "clearall()"
   ]
  },
  {
   "cell_type": "code",
   "execution_count": 2,
   "metadata": {},
   "outputs": [],
   "source": [
    "from matplotlib import pyplot as plt\n",
    "from pandas import json_normalize\n",
    "import json\n",
    "import pandas as pd\n",
    "from tqdm import tqdm\n",
    "import requests\n",
    "import time\n",
    "import seaborn as sns\n",
    "import numpy as np\n",
    "from datetime import datetime\n",
    "import matplotlib.dates as mdates\n",
    "from scipy import optimize\n",
    "\n",
    "import cvxopt as opt\n",
    "from cvxopt import blas, solvers\n",
    "solvers.options['show_progress'] = False\n",
    "\n",
    "sns.set(rc={'figure.figsize':(11, 4)})"
   ]
  },
  {
   "cell_type": "markdown",
   "metadata": {},
   "source": [
    " "
   ]
  },
  {
   "cell_type": "markdown",
   "metadata": {},
   "source": [
    " "
   ]
  },
  {
   "cell_type": "markdown",
   "metadata": {},
   "source": [
    " "
   ]
  },
  {
   "cell_type": "code",
   "execution_count": 3,
   "metadata": {},
   "outputs": [
    {
     "data": {
      "text/html": [
       "<div>\n",
       "<style scoped>\n",
       "    .dataframe tbody tr th:only-of-type {\n",
       "        vertical-align: middle;\n",
       "    }\n",
       "\n",
       "    .dataframe tbody tr th {\n",
       "        vertical-align: top;\n",
       "    }\n",
       "\n",
       "    .dataframe thead th {\n",
       "        text-align: right;\n",
       "    }\n",
       "</style>\n",
       "<table border=\"1\" class=\"dataframe\">\n",
       "  <thead>\n",
       "    <tr style=\"text-align: right;\">\n",
       "      <th></th>\n",
       "      <th>BITCOIN</th>\n",
       "    </tr>\n",
       "    <tr>\n",
       "      <th>date</th>\n",
       "      <th></th>\n",
       "    </tr>\n",
       "  </thead>\n",
       "  <tbody>\n",
       "    <tr>\n",
       "      <th>2024-09-13</th>\n",
       "      <td>136.202698</td>\n",
       "    </tr>\n",
       "    <tr>\n",
       "      <th>2024-09-14</th>\n",
       "      <td>138.844668</td>\n",
       "    </tr>\n",
       "    <tr>\n",
       "      <th>2024-09-15</th>\n",
       "      <td>137.158505</td>\n",
       "    </tr>\n",
       "    <tr>\n",
       "      <th>2024-09-16</th>\n",
       "      <td>131.523336</td>\n",
       "    </tr>\n",
       "    <tr>\n",
       "      <th>2024-09-17</th>\n",
       "      <td>131.493153</td>\n",
       "    </tr>\n",
       "  </tbody>\n",
       "</table>\n",
       "</div>"
      ],
      "text/plain": [
       "               BITCOIN\n",
       "date                  \n",
       "2024-09-13  136.202698\n",
       "2024-09-14  138.844668\n",
       "2024-09-15  137.158505\n",
       "2024-09-16  131.523336\n",
       "2024-09-17  131.493153"
      ]
     },
     "execution_count": 3,
     "metadata": {},
     "output_type": "execute_result"
    }
   ],
   "source": [
    "bitcoin = pd.read_csv('data/csv/sol.csv', index_col=0)\n",
    "\n",
    "bitcoin = pd.DataFrame(bitcoin[\"ReferenceRate\"])\n",
    "\n",
    "bitcoin = bitcoin.rename(columns={'ReferenceRate': 'BITCOIN'})\n",
    "bitcoin.index = bitcoin.index.rename('date')\n",
    "bitcoin.index = pd.to_datetime(bitcoin.index)\n",
    "\n",
    "bitcoin.tail()"
   ]
  },
  {
   "cell_type": "code",
   "execution_count": 4,
   "metadata": {},
   "outputs": [
    {
     "data": {
      "text/html": [
       "<div>\n",
       "<style scoped>\n",
       "    .dataframe tbody tr th:only-of-type {\n",
       "        vertical-align: middle;\n",
       "    }\n",
       "\n",
       "    .dataframe tbody tr th {\n",
       "        vertical-align: top;\n",
       "    }\n",
       "\n",
       "    .dataframe thead th {\n",
       "        text-align: right;\n",
       "    }\n",
       "</style>\n",
       "<table border=\"1\" class=\"dataframe\">\n",
       "  <thead>\n",
       "    <tr style=\"text-align: right;\">\n",
       "      <th></th>\n",
       "      <th>HIGH</th>\n",
       "    </tr>\n",
       "    <tr>\n",
       "      <th>date</th>\n",
       "      <th></th>\n",
       "    </tr>\n",
       "  </thead>\n",
       "  <tbody>\n",
       "    <tr>\n",
       "      <th>2021-06-26</th>\n",
       "      <td>10000.000000</td>\n",
       "    </tr>\n",
       "    <tr>\n",
       "      <th>2021-06-27</th>\n",
       "      <td>10028.279925</td>\n",
       "    </tr>\n",
       "    <tr>\n",
       "      <th>2021-06-28</th>\n",
       "      <td>10457.369963</td>\n",
       "    </tr>\n",
       "    <tr>\n",
       "      <th>2021-06-29</th>\n",
       "      <td>10433.590408</td>\n",
       "    </tr>\n",
       "    <tr>\n",
       "      <th>2021-06-30</th>\n",
       "      <td>10678.829983</td>\n",
       "    </tr>\n",
       "    <tr>\n",
       "      <th>...</th>\n",
       "      <td>...</td>\n",
       "    </tr>\n",
       "    <tr>\n",
       "      <th>2024-06-22</th>\n",
       "      <td>27088.074603</td>\n",
       "    </tr>\n",
       "    <tr>\n",
       "      <th>2024-06-23</th>\n",
       "      <td>27143.825421</td>\n",
       "    </tr>\n",
       "    <tr>\n",
       "      <th>2024-06-24</th>\n",
       "      <td>26852.110724</td>\n",
       "    </tr>\n",
       "    <tr>\n",
       "      <th>2024-06-25</th>\n",
       "      <td>25873.814406</td>\n",
       "    </tr>\n",
       "    <tr>\n",
       "      <th>2024-06-26</th>\n",
       "      <td>26347.594182</td>\n",
       "    </tr>\n",
       "  </tbody>\n",
       "</table>\n",
       "<p>1097 rows × 1 columns</p>\n",
       "</div>"
      ],
      "text/plain": [
       "                    HIGH\n",
       "date                    \n",
       "2021-06-26  10000.000000\n",
       "2021-06-27  10028.279925\n",
       "2021-06-28  10457.369963\n",
       "2021-06-29  10433.590408\n",
       "2021-06-30  10678.829983\n",
       "...                  ...\n",
       "2024-06-22  27088.074603\n",
       "2024-06-23  27143.825421\n",
       "2024-06-24  26852.110724\n",
       "2024-06-25  25873.814406\n",
       "2024-06-26  26347.594182\n",
       "\n",
       "[1097 rows x 1 columns]"
      ]
     },
     "execution_count": 4,
     "metadata": {},
     "output_type": "execute_result"
    }
   ],
   "source": [
    "high_risk = pd.read_csv('out/1W/btc_parity_HIGH_RISK_stress_2.xlsx_Parity.csv', index_col=0)\n",
    "\n",
    "weight_high_risk = pd.DataFrame(high_risk[\"1_weight\"])\n",
    "high_risk = pd.DataFrame(high_risk[\"Portfolio Value\"])\n",
    "\n",
    "high_risk = high_risk.rename(columns={'Portfolio Value': 'HIGH'})\n",
    "high_risk.index = high_risk.index.rename('date')\n",
    "high_risk.index = pd.to_datetime(high_risk.index)\n",
    "\n",
    "weight_high_risk = weight_high_risk.rename(columns={'1_weight': 'WEIGHT'})\n",
    "weight_high_risk.index = weight_high_risk.index.rename('date')\n",
    "weight_high_risk.index = pd.to_datetime(weight_high_risk.index)\n",
    "\n",
    "high_risk"
   ]
  },
  {
   "cell_type": "code",
   "execution_count": 5,
   "metadata": {},
   "outputs": [
    {
     "data": {
      "text/html": [
       "<div>\n",
       "<style scoped>\n",
       "    .dataframe tbody tr th:only-of-type {\n",
       "        vertical-align: middle;\n",
       "    }\n",
       "\n",
       "    .dataframe tbody tr th {\n",
       "        vertical-align: top;\n",
       "    }\n",
       "\n",
       "    .dataframe thead th {\n",
       "        text-align: right;\n",
       "    }\n",
       "</style>\n",
       "<table border=\"1\" class=\"dataframe\">\n",
       "  <thead>\n",
       "    <tr style=\"text-align: right;\">\n",
       "      <th></th>\n",
       "      <th>MEDIUM</th>\n",
       "    </tr>\n",
       "    <tr>\n",
       "      <th>date</th>\n",
       "      <th></th>\n",
       "    </tr>\n",
       "  </thead>\n",
       "  <tbody>\n",
       "    <tr>\n",
       "      <th>2021-06-26</th>\n",
       "      <td>10000.000000</td>\n",
       "    </tr>\n",
       "    <tr>\n",
       "      <th>2021-06-27</th>\n",
       "      <td>10031.390414</td>\n",
       "    </tr>\n",
       "    <tr>\n",
       "      <th>2021-06-28</th>\n",
       "      <td>10463.456904</td>\n",
       "    </tr>\n",
       "    <tr>\n",
       "      <th>2021-06-29</th>\n",
       "      <td>10714.215849</td>\n",
       "    </tr>\n",
       "    <tr>\n",
       "      <th>2021-06-30</th>\n",
       "      <td>10938.330115</td>\n",
       "    </tr>\n",
       "    <tr>\n",
       "      <th>...</th>\n",
       "      <td>...</td>\n",
       "    </tr>\n",
       "    <tr>\n",
       "      <th>2024-06-22</th>\n",
       "      <td>59494.219735</td>\n",
       "    </tr>\n",
       "    <tr>\n",
       "      <th>2024-06-23</th>\n",
       "      <td>59352.100016</td>\n",
       "    </tr>\n",
       "    <tr>\n",
       "      <th>2024-06-24</th>\n",
       "      <td>59352.100016</td>\n",
       "    </tr>\n",
       "    <tr>\n",
       "      <th>2024-06-25</th>\n",
       "      <td>60356.488789</td>\n",
       "    </tr>\n",
       "    <tr>\n",
       "      <th>2024-06-26</th>\n",
       "      <td>61752.839450</td>\n",
       "    </tr>\n",
       "  </tbody>\n",
       "</table>\n",
       "<p>1097 rows × 1 columns</p>\n",
       "</div>"
      ],
      "text/plain": [
       "                  MEDIUM\n",
       "date                    \n",
       "2021-06-26  10000.000000\n",
       "2021-06-27  10031.390414\n",
       "2021-06-28  10463.456904\n",
       "2021-06-29  10714.215849\n",
       "2021-06-30  10938.330115\n",
       "...                  ...\n",
       "2024-06-22  59494.219735\n",
       "2024-06-23  59352.100016\n",
       "2024-06-24  59352.100016\n",
       "2024-06-25  60356.488789\n",
       "2024-06-26  61752.839450\n",
       "\n",
       "[1097 rows x 1 columns]"
      ]
     },
     "execution_count": 5,
     "metadata": {},
     "output_type": "execute_result"
    }
   ],
   "source": [
    "medium_risk = pd.read_csv(\n",
    "    \"out/1W/sol_parity_MEDIUM_RISK_stress_2.xlsx_Parity.csv\", index_col=0\n",
    ")\n",
    "\n",
    "weight_medium_risk = pd.DataFrame(medium_risk[\"1_weight\"])\n",
    "medium_risk = pd.DataFrame(medium_risk[\"Portfolio Value\"])\n",
    "\n",
    "medium_risk = medium_risk.rename(columns={'Portfolio Value': 'MEDIUM'})\n",
    "medium_risk.index = medium_risk.index.rename('date')\n",
    "medium_risk.index = pd.to_datetime(medium_risk.index)\n",
    "\n",
    "weight_medium_risk = weight_medium_risk.rename(columns={'1_weight': 'WEIGHT'})\n",
    "weight_medium_risk.index = weight_medium_risk.index.rename('date')\n",
    "weight_medium_risk.index = pd.to_datetime(weight_medium_risk.index)\n",
    "\n",
    "medium_risk"
   ]
  },
  {
   "cell_type": "code",
   "execution_count": 6,
   "metadata": {},
   "outputs": [],
   "source": [
    "# start_time = high_risk.index[0]\n",
    "# end_time = high_risk.index[-1]\n",
    "\n",
    "start_time = pd.Timestamp('2022-04-01 00:00:00')\n",
    "end_time = pd.Timestamp('2024-04-01 00:00:00')\n",
    "\n",
    "bitcoin = bitcoin[bitcoin.index >= start_time]\n",
    "bitcoin = bitcoin[bitcoin.index <= end_time]\n",
    "\n",
    "years = (end_time - start_time).days/365\n",
    "risk_free_rate = 3/100"
   ]
  },
  {
   "cell_type": "code",
   "execution_count": 7,
   "metadata": {},
   "outputs": [],
   "source": [
    "high_risk = high_risk[high_risk.index >= start_time]\n",
    "high_risk = high_risk[high_risk.index <= end_time]\n",
    "\n",
    "medium_risk = medium_risk[medium_risk.index >= start_time]\n",
    "medium_risk = medium_risk[medium_risk.index <= end_time]\n",
    "\n",
    "weight_high_risk = weight_high_risk[weight_high_risk.index >= start_time]\n",
    "weight_high_risk = weight_high_risk[weight_high_risk.index <= end_time]\n",
    "\n",
    "weight_medium_risk = weight_medium_risk[weight_medium_risk.index >= start_time]\n",
    "weight_medium_risk = weight_medium_risk[weight_medium_risk.index <= end_time]"
   ]
  },
  {
   "cell_type": "code",
   "execution_count": 8,
   "metadata": {},
   "outputs": [
    {
     "name": "stdout",
     "output_type": "stream",
     "text": [
      "bitcoin\n",
      "return 31.9\n",
      "vol 107.5\n",
      "max drowdanw 93.0\n",
      " \n",
      "Sharpe 0.75\n",
      "Calmar 0.31\n"
     ]
    }
   ],
   "source": [
    "bitcoin_total_return = (bitcoin[\"BITCOIN\"].iloc[-1]/bitcoin[\"BITCOIN\"].iloc[0]) - 1\n",
    "# bitcoin_total_return = (1 + bitcoin_total_return)**(1/years) - 1\n",
    "bitcoin_total_return = bitcoin_total_return/years\n",
    "\n",
    "bitcoin_daily_return = bitcoin[\"BITCOIN\"].pct_change(periods=1)\n",
    "bitcoin_average_daily_return = bitcoin_daily_return.mean()\n",
    "bitcoin_daily_return_volatility = bitcoin_daily_return.std()\n",
    "bitcoin_volatility = bitcoin_daily_return_volatility*np.sqrt(365)\n",
    "\n",
    "bitcoin_running_max = np.maximum.accumulate(bitcoin[\"BITCOIN\"]/bitcoin[\"BITCOIN\"].iloc[0])\n",
    "bitcoin_running_max[bitcoin_running_max < 1] = 1\n",
    "\n",
    "bitcoin_drawdown = bitcoin[\"BITCOIN\"]/bitcoin[\"BITCOIN\"].iloc[0]/bitcoin_running_max - 1\n",
    "bitcoin_max_drawdown = -bitcoin_drawdown.min()\n",
    "\n",
    "bitcoin_sharpe = (bitcoin_average_daily_return - risk_free_rate/365)/bitcoin_daily_return_volatility\n",
    "bitcoin_sharpe = bitcoin_sharpe*np.sqrt(365)\n",
    "bitcoin_calmar = (bitcoin_total_return - risk_free_rate)/bitcoin_max_drawdown\n",
    "\n",
    "print(\"bitcoin\")\n",
    "print(\"return\", np.round(bitcoin_total_return*100, 1))\n",
    "print(\"vol\", np.round(bitcoin_volatility*100, 1))\n",
    "print(\"max drowdanw\", np.round(bitcoin_max_drawdown*100, 1))\n",
    "\n",
    "print(\" \")\n",
    "print(\"Sharpe\", np.round(bitcoin_sharpe, 2))\n",
    "print(\"Calmar\", np.round(bitcoin_calmar, 2))"
   ]
  },
  {
   "cell_type": "code",
   "execution_count": 9,
   "metadata": {},
   "outputs": [
    {
     "name": "stdout",
     "output_type": "stream",
     "text": [
      "HIGH\n",
      "68.7\n",
      "40.4\n",
      "40.4\n",
      " \n",
      "1.2\n",
      "1.63\n"
     ]
    }
   ],
   "source": [
    "high_risk_total_return = (high_risk[\"HIGH\"].iloc[-1]/high_risk[\"HIGH\"].iloc[0]) - 1\n",
    "# high_risk_total_return = (1 + high_risk_total_return)**(1/years) - 1\n",
    "high_risk_total_return = high_risk_total_return/years\n",
    "\n",
    "high_risk_daily_return = high_risk[\"HIGH\"].pct_change(periods=1)\n",
    "high_risk_average_daily_return = high_risk_daily_return.mean()\n",
    "high_risk_daily_return_volatility = high_risk_daily_return.std()\n",
    "high_risk_volatility = high_risk_daily_return_volatility*np.sqrt(365)\n",
    "\n",
    "high_risk_running_max = np.maximum.accumulate(high_risk[\"HIGH\"]/high_risk[\"HIGH\"].iloc[0])\n",
    "high_risk_running_max[high_risk_running_max < 1] = 1\n",
    "\n",
    "high_risk_drawdown = high_risk[\"HIGH\"]/high_risk[\"HIGH\"].iloc[0]/high_risk_running_max - 1\n",
    "high_risk_max_drawdown = -high_risk_drawdown.min()\n",
    "\n",
    "high_risk_sharpe = (high_risk_average_daily_return - risk_free_rate/365)/high_risk_daily_return_volatility\n",
    "high_risk_sharpe = high_risk_sharpe*np.sqrt(365)\n",
    "high_risk_calmar = (high_risk_total_return - risk_free_rate)/high_risk_max_drawdown\n",
    "\n",
    "print(\"HIGH\")\n",
    "print(np.round(high_risk_total_return*100, 1))\n",
    "print(np.round(high_risk_volatility*100, 1))\n",
    "print(np.round(high_risk_max_drawdown*100, 1))\n",
    "\n",
    "print(\" \")\n",
    "print(np.round(high_risk_sharpe, 2))\n",
    "print(np.round(high_risk_calmar, 2))"
   ]
  },
  {
   "cell_type": "code",
   "execution_count": 10,
   "metadata": {},
   "outputs": [
    {
     "name": "stdout",
     "output_type": "stream",
     "text": [
      "MEDIUM\n",
      "77.9\n",
      "60.7\n",
      "69.8\n",
      " \n",
      "1.02\n",
      "1.07\n"
     ]
    }
   ],
   "source": [
    "medium_risk_total_return = (medium_risk[\"MEDIUM\"].iloc[-1]/medium_risk[\"MEDIUM\"].iloc[0]) - 1\n",
    "# medium_risk_total_return = (1 + medium_risk_total_return)**(1/years) - 1\n",
    "medium_risk_total_return = medium_risk_total_return/years\n",
    "\n",
    "medium_risk_daily_return = medium_risk[\"MEDIUM\"].pct_change(periods=1)\n",
    "medium_risk_average_daily_return = medium_risk_daily_return.mean()\n",
    "medium_risk_daily_return_volatility = medium_risk_daily_return.std()\n",
    "medium_risk_volatility = medium_risk_daily_return_volatility*np.sqrt(365)\n",
    "\n",
    "medium_risk_running_max = np.maximum.accumulate(medium_risk[\"MEDIUM\"]/medium_risk[\"MEDIUM\"].iloc[0])\n",
    "medium_risk_running_max[medium_risk_running_max < 1] = 1\n",
    "\n",
    "medium_risk_drawdown = medium_risk[\"MEDIUM\"]/medium_risk[\"MEDIUM\"].iloc[0]/medium_risk_running_max - 1\n",
    "medium_risk_max_drawdown = -medium_risk_drawdown.min()\n",
    "\n",
    "medium_risk_sharpe = (medium_risk_average_daily_return - risk_free_rate/365)/medium_risk_daily_return_volatility\n",
    "medium_risk_sharpe = medium_risk_sharpe*np.sqrt(365)\n",
    "medium_risk_calmar = (medium_risk_total_return - risk_free_rate)/medium_risk_max_drawdown\n",
    "\n",
    "print(\"MEDIUM\")\n",
    "print(np.round(medium_risk_total_return*100, 1))\n",
    "print(np.round(medium_risk_volatility*100, 1))\n",
    "print(np.round(medium_risk_max_drawdown*100, 1))\n",
    "\n",
    "print(\" \")\n",
    "print(np.round(medium_risk_sharpe, 2))\n",
    "print(np.round(medium_risk_calmar, 2))"
   ]
  },
  {
   "cell_type": "markdown",
   "metadata": {},
   "source": [
    " "
   ]
  },
  {
   "cell_type": "markdown",
   "metadata": {},
   "source": [
    " "
   ]
  },
  {
   "cell_type": "markdown",
   "metadata": {},
   "source": [
    " "
   ]
  },
  {
   "cell_type": "code",
   "execution_count": 11,
   "metadata": {},
   "outputs": [
    {
     "data": {
      "image/png": "[encoded data removed]",
      "text/plain": [
       "<Figure size 1100x400 with 1 Axes>"
      ]
     },
     "metadata": {},
     "output_type": "display_data"
    }
   ],
   "source": [
    "plt.plot(100*bitcoin/bitcoin.iloc[0], label=\"Bitcoin\", linewidth=1, color=\"darkblue\")\n",
    "\n",
    "plt.plot(100*high_risk/high_risk.iloc[0], label=\"High risk\", linewidth=1, color=\"indianred\")\n",
    "plt.plot(100*medium_risk/medium_risk.iloc[0], label=\"Medium risk\", linewidth=1, color=\"mediumorchid\")\n",
    "plt.xlabel(\"date\")\n",
    "plt.ylabel(\"price in US dollars\")\n",
    "plt.legend()\n",
    "plt.show()"
   ]
  },
  {
   "cell_type": "code",
   "execution_count": 12,
   "metadata": {},
   "outputs": [
    {
     "data": {
      "image/png": "[encoded data removed]",
      "text/plain": [
       "<Figure size 1100x400 with 1 Axes>"
      ]
     },
     "metadata": {},
     "output_type": "display_data"
    }
   ],
   "source": [
    "plt.plot(100*(1-weight_high_risk), label=\"High risk\", linewidth=1, color=\"indianred\")\n",
    "plt.plot(100*(1-weight_medium_risk), label=\"Medium risk\", linewidth=1, color=\"mediumorchid\")\n",
    "plt.xlabel(\"date\")\n",
    "plt.ylabel(\"risky weight\")\n",
    "plt.legend()\n",
    "plt.show()"
   ]
  },
  {
   "cell_type": "code",
   "execution_count": 13,
   "metadata": {},
   "outputs": [
    {
     "name": "stdout",
     "output_type": "stream",
     "text": [
      "9\n",
      "10\n"
     ]
    }
   ],
   "source": [
    "print((np.abs((1-weight_high_risk).pct_change(periods=1))[1:] > 0.0).sum().iloc[0])\n",
    "print((np.abs((1-weight_medium_risk).pct_change(periods=1))[1:] > 0.0).sum().iloc[0])"
   ]
  },
  {
   "cell_type": "code",
   "execution_count": 14,
   "metadata": {},
   "outputs": [
    {
     "data": {
      "text/plain": [
       "DatetimeIndex(['2022-06-21', '2022-09-19', '2022-12-18', '2023-02-15',\n",
       "               '2023-03-29', '2023-06-27', '2023-09-25', '2023-12-24',\n",
       "               '2024-03-23'],\n",
       "              dtype='datetime64[ns]', name='date', freq=None)"
      ]
     },
     "execution_count": 14,
     "metadata": {},
     "output_type": "execute_result"
    }
   ],
   "source": [
    "rebalancing_high_risk = weight_high_risk[(np.abs((1-weight_high_risk).pct_change(periods=1)) > 0.0).to_numpy()].index\n",
    "rebalancing_high_risk"
   ]
  },
  {
   "cell_type": "code",
   "execution_count": 15,
   "metadata": {},
   "outputs": [
    {
     "data": {
      "text/plain": [
       "DatetimeIndex(['2022-05-18', '2022-09-19', '2022-11-13', '2023-05-18',\n",
       "               '2023-07-07', '2023-08-23', '2023-10-17', '2023-11-14',\n",
       "               '2023-11-23', '2024-02-21'],\n",
       "              dtype='datetime64[ns]', name='date', freq=None)"
      ]
     },
     "execution_count": 15,
     "metadata": {},
     "output_type": "execute_result"
    }
   ],
   "source": [
    "rebalancing_medium_risk = weight_medium_risk[(np.abs((1-weight_medium_risk).pct_change(periods=1)) > 0.0).to_numpy()].index\n",
    "rebalancing_medium_risk"
   ]
  },
  {
   "cell_type": "markdown",
   "metadata": {},
   "source": [
    " "
   ]
  },
  {
   "cell_type": "markdown",
   "metadata": {},
   "source": [
    " "
   ]
  },
  {
   "cell_type": "markdown",
   "metadata": {},
   "source": [
    " "
   ]
  },
  {
   "cell_type": "code",
   "execution_count": 16,
   "metadata": {},
   "outputs": [
    {
     "data": {
      "text/plain": [
       "98"
      ]
     },
     "execution_count": 16,
     "metadata": {},
     "output_type": "execute_result"
    }
   ],
   "source": [
    "# TOY EXAMPLE\n",
    "\n",
    "span = 3*30  # 3-months volatility\n",
    "smoothing = 7  # smoothing factor\n",
    "\n",
    "# il nous faut (span+delay+smoothing) returns\n",
    "\n",
    "returns = bitcoin[-(span+1+smoothing):].pct_change()\n",
    "\n",
    "len(returns)"
   ]
  },
  {
   "cell_type": "code",
   "execution_count": 17,
   "metadata": {},
   "outputs": [
    {
     "data": {
      "text/html": [
       "<div>\n",
       "<style scoped>\n",
       "    .dataframe tbody tr th:only-of-type {\n",
       "        vertical-align: middle;\n",
       "    }\n",
       "\n",
       "    .dataframe tbody tr th {\n",
       "        vertical-align: top;\n",
       "    }\n",
       "\n",
       "    .dataframe thead th {\n",
       "        text-align: right;\n",
       "    }\n",
       "</style>\n",
       "<table border=\"1\" class=\"dataframe\">\n",
       "  <thead>\n",
       "    <tr style=\"text-align: right;\">\n",
       "      <th></th>\n",
       "      <th>BITCOIN</th>\n",
       "    </tr>\n",
       "    <tr>\n",
       "      <th>date</th>\n",
       "      <th></th>\n",
       "    </tr>\n",
       "  </thead>\n",
       "  <tbody>\n",
       "    <tr>\n",
       "      <th>2023-12-26</th>\n",
       "      <td>NaN</td>\n",
       "    </tr>\n",
       "    <tr>\n",
       "      <th>2023-12-27</th>\n",
       "      <td>NaN</td>\n",
       "    </tr>\n",
       "    <tr>\n",
       "      <th>2023-12-28</th>\n",
       "      <td>NaN</td>\n",
       "    </tr>\n",
       "    <tr>\n",
       "      <th>2023-12-29</th>\n",
       "      <td>NaN</td>\n",
       "    </tr>\n",
       "    <tr>\n",
       "      <th>2023-12-30</th>\n",
       "      <td>NaN</td>\n",
       "    </tr>\n",
       "    <tr>\n",
       "      <th>...</th>\n",
       "      <td>...</td>\n",
       "    </tr>\n",
       "    <tr>\n",
       "      <th>2024-03-28</th>\n",
       "      <td>0.916894</td>\n",
       "    </tr>\n",
       "    <tr>\n",
       "      <th>2024-03-29</th>\n",
       "      <td>0.916083</td>\n",
       "    </tr>\n",
       "    <tr>\n",
       "      <th>2024-03-30</th>\n",
       "      <td>0.911550</td>\n",
       "    </tr>\n",
       "    <tr>\n",
       "      <th>2024-03-31</th>\n",
       "      <td>0.910996</td>\n",
       "    </tr>\n",
       "    <tr>\n",
       "      <th>2024-04-01</th>\n",
       "      <td>0.901744</td>\n",
       "    </tr>\n",
       "  </tbody>\n",
       "</table>\n",
       "<p>98 rows × 1 columns</p>\n",
       "</div>"
      ],
      "text/plain": [
       "             BITCOIN\n",
       "date                \n",
       "2023-12-26       NaN\n",
       "2023-12-27       NaN\n",
       "2023-12-28       NaN\n",
       "2023-12-29       NaN\n",
       "2023-12-30       NaN\n",
       "...              ...\n",
       "2024-03-28  0.916894\n",
       "2024-03-29  0.916083\n",
       "2024-03-30  0.911550\n",
       "2024-03-31  0.910996\n",
       "2024-04-01  0.901744\n",
       "\n",
       "[98 rows x 1 columns]"
      ]
     },
     "execution_count": 17,
     "metadata": {},
     "output_type": "execute_result"
    }
   ],
   "source": [
    "# on a (smoothing + 1) volatility\n",
    "\n",
    "volatility_raw = returns.rolling(span).std()*np.sqrt(365)\n",
    "volatility_raw"
   ]
  },
  {
   "cell_type": "code",
   "execution_count": 18,
   "metadata": {},
   "outputs": [
    {
     "data": {
      "text/html": [
       "<div>\n",
       "<style scoped>\n",
       "    .dataframe tbody tr th:only-of-type {\n",
       "        vertical-align: middle;\n",
       "    }\n",
       "\n",
       "    .dataframe tbody tr th {\n",
       "        vertical-align: top;\n",
       "    }\n",
       "\n",
       "    .dataframe thead th {\n",
       "        text-align: right;\n",
       "    }\n",
       "</style>\n",
       "<table border=\"1\" class=\"dataframe\">\n",
       "  <thead>\n",
       "    <tr style=\"text-align: right;\">\n",
       "      <th></th>\n",
       "      <th>BITCOIN</th>\n",
       "    </tr>\n",
       "    <tr>\n",
       "      <th>date</th>\n",
       "      <th></th>\n",
       "    </tr>\n",
       "  </thead>\n",
       "  <tbody>\n",
       "    <tr>\n",
       "      <th>2023-12-26</th>\n",
       "      <td>NaN</td>\n",
       "    </tr>\n",
       "    <tr>\n",
       "      <th>2023-12-27</th>\n",
       "      <td>NaN</td>\n",
       "    </tr>\n",
       "    <tr>\n",
       "      <th>2023-12-28</th>\n",
       "      <td>NaN</td>\n",
       "    </tr>\n",
       "    <tr>\n",
       "      <th>2023-12-29</th>\n",
       "      <td>NaN</td>\n",
       "    </tr>\n",
       "    <tr>\n",
       "      <th>2023-12-30</th>\n",
       "      <td>NaN</td>\n",
       "    </tr>\n",
       "    <tr>\n",
       "      <th>...</th>\n",
       "      <td>...</td>\n",
       "    </tr>\n",
       "    <tr>\n",
       "      <th>2024-03-28</th>\n",
       "      <td>NaN</td>\n",
       "    </tr>\n",
       "    <tr>\n",
       "      <th>2024-03-29</th>\n",
       "      <td>NaN</td>\n",
       "    </tr>\n",
       "    <tr>\n",
       "      <th>2024-03-30</th>\n",
       "      <td>NaN</td>\n",
       "    </tr>\n",
       "    <tr>\n",
       "      <th>2024-03-31</th>\n",
       "      <td>0.919822</td>\n",
       "    </tr>\n",
       "    <tr>\n",
       "      <th>2024-04-01</th>\n",
       "      <td>0.914518</td>\n",
       "    </tr>\n",
       "  </tbody>\n",
       "</table>\n",
       "<p>98 rows × 1 columns</p>\n",
       "</div>"
      ],
      "text/plain": [
       "             BITCOIN\n",
       "date                \n",
       "2023-12-26       NaN\n",
       "2023-12-27       NaN\n",
       "2023-12-28       NaN\n",
       "2023-12-29       NaN\n",
       "2023-12-30       NaN\n",
       "...              ...\n",
       "2024-03-28       NaN\n",
       "2024-03-29       NaN\n",
       "2024-03-30       NaN\n",
       "2024-03-31  0.919822\n",
       "2024-04-01  0.914518\n",
       "\n",
       "[98 rows x 1 columns]"
      ]
     },
     "execution_count": 18,
     "metadata": {},
     "output_type": "execute_result"
    }
   ],
   "source": [
    "# on smooth la volatilité, on en a normalement 2 (un seul suffit en réalité)\n",
    "\n",
    "volatility = volatility_raw.rolling(smoothing).mean()\n",
    "volatility"
   ]
  },
  {
   "cell_type": "code",
   "execution_count": 19,
   "metadata": {},
   "outputs": [
    {
     "name": "stdout",
     "output_type": "stream",
     "text": [
      "91.45\n"
     ]
    }
   ],
   "source": [
    "# on prend le dernier point et on a notre vol smoothed, qu'on utilisera à chaque fois\n",
    "\n",
    "print(np.round(volatility[\"BITCOIN\"].iloc[-1]*100, 2))"
   ]
  },
  {
   "cell_type": "code",
   "execution_count": 20,
   "metadata": {},
   "outputs": [],
   "source": [
    "# version vectorisée\n",
    "\n",
    "returns = bitcoin.pct_change()\n",
    "volatility_raw = returns.rolling(span).std()*np.sqrt(365)\n",
    "volatility = volatility_raw.rolling(smoothing).mean()"
   ]
  },
  {
   "cell_type": "markdown",
   "metadata": {},
   "source": [
    " "
   ]
  },
  {
   "cell_type": "markdown",
   "metadata": {},
   "source": [
    " "
   ]
  },
  {
   "cell_type": "markdown",
   "metadata": {},
   "source": [
    " "
   ]
  },
  {
   "cell_type": "code",
   "execution_count": 21,
   "metadata": {},
   "outputs": [
    {
     "data": {
      "text/plain": [
       "DatetimeIndex(['2022-05-18', '2022-09-19', '2022-11-13', '2023-05-18',\n",
       "               '2023-07-07', '2023-08-23', '2023-10-17', '2023-11-14',\n",
       "               '2023-11-23', '2024-02-21'],\n",
       "              dtype='datetime64[ns]', name='date', freq=None)"
      ]
     },
     "execution_count": 21,
     "metadata": {},
     "output_type": "execute_result"
    }
   ],
   "source": [
    "rebalancing_medium_risk"
   ]
  },
  {
   "cell_type": "code",
   "execution_count": 22,
   "metadata": {},
   "outputs": [
    {
     "data": {
      "text/html": [
       "<div>\n",
       "<style scoped>\n",
       "    .dataframe tbody tr th:only-of-type {\n",
       "        vertical-align: middle;\n",
       "    }\n",
       "\n",
       "    .dataframe tbody tr th {\n",
       "        vertical-align: top;\n",
       "    }\n",
       "\n",
       "    .dataframe thead th {\n",
       "        text-align: right;\n",
       "    }\n",
       "</style>\n",
       "<table border=\"1\" class=\"dataframe\">\n",
       "  <thead>\n",
       "    <tr style=\"text-align: right;\">\n",
       "      <th></th>\n",
       "      <th>BITCOIN</th>\n",
       "    </tr>\n",
       "    <tr>\n",
       "      <th>date</th>\n",
       "      <th></th>\n",
       "    </tr>\n",
       "  </thead>\n",
       "  <tbody>\n",
       "    <tr>\n",
       "      <th>2023-09-25</th>\n",
       "      <td>0.730754</td>\n",
       "    </tr>\n",
       "  </tbody>\n",
       "</table>\n",
       "</div>"
      ],
      "text/plain": [
       "             BITCOIN\n",
       "date                \n",
       "2023-09-25  0.730754"
      ]
     },
     "execution_count": 22,
     "metadata": {},
     "output_type": "execute_result"
    }
   ],
   "source": [
    "# on se focalise sur le medium et on a une date de rebalancement (triggered) le 2023-02-11\n",
    "# la vol non-smoothed (à ne pas utiliser) est donnée par:\n",
    "\n",
    "vol_raw_old = volatility_raw[volatility_raw.index == rebalancing_high_risk[6]]\n",
    "vol_raw_old"
   ]
  },
  {
   "cell_type": "code",
   "execution_count": 23,
   "metadata": {},
   "outputs": [
    {
     "data": {
      "text/html": [
       "<div>\n",
       "<style scoped>\n",
       "    .dataframe tbody tr th:only-of-type {\n",
       "        vertical-align: middle;\n",
       "    }\n",
       "\n",
       "    .dataframe tbody tr th {\n",
       "        vertical-align: top;\n",
       "    }\n",
       "\n",
       "    .dataframe thead th {\n",
       "        text-align: right;\n",
       "    }\n",
       "</style>\n",
       "<table border=\"1\" class=\"dataframe\">\n",
       "  <thead>\n",
       "    <tr style=\"text-align: right;\">\n",
       "      <th></th>\n",
       "      <th>BITCOIN</th>\n",
       "    </tr>\n",
       "    <tr>\n",
       "      <th>date</th>\n",
       "      <th></th>\n",
       "    </tr>\n",
       "  </thead>\n",
       "  <tbody>\n",
       "    <tr>\n",
       "      <th>2023-09-25</th>\n",
       "      <td>0.73757</td>\n",
       "    </tr>\n",
       "  </tbody>\n",
       "</table>\n",
       "</div>"
      ],
      "text/plain": [
       "            BITCOIN\n",
       "date               \n",
       "2023-09-25  0.73757"
      ]
     },
     "execution_count": 23,
     "metadata": {},
     "output_type": "execute_result"
    }
   ],
   "source": [
    "# et la vol smoothed par (c'est la vol old, car elle correspond à la vol de la dernière date de rebalancing):\n",
    "\n",
    "vol_old = volatility[\n",
    "    volatility.index == rebalancing_high_risk[6]\n",
    "]\n",
    "vol_old"
   ]
  },
  {
   "cell_type": "code",
   "execution_count": 24,
   "metadata": {},
   "outputs": [
    {
     "data": {
      "text/html": [
       "<div>\n",
       "<style scoped>\n",
       "    .dataframe tbody tr th:only-of-type {\n",
       "        vertical-align: middle;\n",
       "    }\n",
       "\n",
       "    .dataframe tbody tr th {\n",
       "        vertical-align: top;\n",
       "    }\n",
       "\n",
       "    .dataframe thead th {\n",
       "        text-align: right;\n",
       "    }\n",
       "</style>\n",
       "<table border=\"1\" class=\"dataframe\">\n",
       "  <thead>\n",
       "    <tr style=\"text-align: right;\">\n",
       "      <th></th>\n",
       "      <th>BITCOIN</th>\n",
       "    </tr>\n",
       "    <tr>\n",
       "      <th>date</th>\n",
       "      <th></th>\n",
       "    </tr>\n",
       "  </thead>\n",
       "  <tbody>\n",
       "    <tr>\n",
       "      <th>2023-12-23</th>\n",
       "      <td>1.06925</td>\n",
       "    </tr>\n",
       "  </tbody>\n",
       "</table>\n",
       "</div>"
      ],
      "text/plain": [
       "            BITCOIN\n",
       "date               \n",
       "2023-12-23  1.06925"
      ]
     },
     "execution_count": 24,
     "metadata": {},
     "output_type": "execute_result"
    }
   ],
   "source": [
    "# on regarde la vol lors de la date de rebalancement suivante, le 2023-03-26\n",
    "\n",
    "current_vol = volatility[\n",
    "    volatility.index == rebalancing_high_risk[7] - pd.Timedelta(days=1) # il faut regarder le jour d'avant, celui qui a trigger le rebalancement.\n",
    "]\n",
    "current_vol"
   ]
  },
  {
   "cell_type": "code",
   "execution_count": 25,
   "metadata": {},
   "outputs": [
    {
     "data": {
      "text/plain": [
       "0.3316799504834511"
      ]
     },
     "execution_count": 25,
     "metadata": {},
     "output_type": "execute_result"
    }
   ],
   "source": [
    "# on vérifie que la difference en valeur absolue correspond à notre threshold (10 ou 15%)\n",
    "\n",
    "np.abs(current_vol[\"BITCOIN\"].iloc[0] - vol_old[\"BITCOIN\"].iloc[0])"
   ]
  },
  {
   "cell_type": "markdown",
   "metadata": {},
   "source": [
    " "
   ]
  },
  {
   "cell_type": "markdown",
   "metadata": {},
   "source": [
    " "
   ]
  },
  {
   "cell_type": "markdown",
   "metadata": {},
   "source": [
    " "
   ]
  },
  {
   "cell_type": "code",
   "execution_count": 26,
   "metadata": {},
   "outputs": [
    {
     "data": {
      "image/png": "[encoded data removed]",
      "text/plain": [
       "<Figure size 1100x400 with 1 Axes>"
      ]
     },
     "metadata": {},
     "output_type": "display_data"
    }
   ],
   "source": [
    "plt.plot(100*volatility_raw, linewidth=1, color=\"darkblue\")\n",
    "plt.plot(100*volatility, \"--\", linewidth=1, color=\"darkblue\")\n",
    "plt.plot(100*volatility[volatility.index.isin(rebalancing_medium_risk)], \"o\", linewidth=1, color=\"red\")\n",
    "#plt.plot(100*volatility_raw[volatility_raw.index.isin(rebalancing_medium_risk)], \"o\", linewidth=0.01, color=\"red\")\n",
    "plt.show()"
   ]
  },
  {
   "cell_type": "markdown",
   "metadata": {},
   "source": [
    " "
   ]
  },
  {
   "cell_type": "markdown",
   "metadata": {},
   "source": [
    " "
   ]
  },
  {
   "cell_type": "markdown",
   "metadata": {},
   "source": [
    " "
   ]
  },
  {
   "cell_type": "code",
   "execution_count": 27,
   "metadata": {},
   "outputs": [
    {
     "data": {
      "text/html": [
       "<div>\n",
       "<style scoped>\n",
       "    .dataframe tbody tr th:only-of-type {\n",
       "        vertical-align: middle;\n",
       "    }\n",
       "\n",
       "    .dataframe tbody tr th {\n",
       "        vertical-align: top;\n",
       "    }\n",
       "\n",
       "    .dataframe thead th {\n",
       "        text-align: right;\n",
       "    }\n",
       "</style>\n",
       "<table border=\"1\" class=\"dataframe\">\n",
       "  <thead>\n",
       "    <tr style=\"text-align: right;\">\n",
       "      <th></th>\n",
       "      <th>WEIGHT</th>\n",
       "    </tr>\n",
       "    <tr>\n",
       "      <th>date</th>\n",
       "      <th></th>\n",
       "    </tr>\n",
       "  </thead>\n",
       "  <tbody>\n",
       "    <tr>\n",
       "      <th>2023-09-25</th>\n",
       "      <td>0.669755</td>\n",
       "    </tr>\n",
       "  </tbody>\n",
       "</table>\n",
       "</div>"
      ],
      "text/plain": [
       "              WEIGHT\n",
       "date                \n",
       "2023-09-25  0.669755"
      ]
     },
     "execution_count": 27,
     "metadata": {},
     "output_type": "execute_result"
    }
   ],
   "source": [
    "# lors de la seconde date de rebalancement (2023-03-26), le poids du risky asset est donné par:\n",
    "\n",
    "(\n",
    "    1\n",
    "    - weight_medium_risk[\n",
    "        volatility.index == rebalancing_high_risk[6]\n",
    "    ]\n",
    ")"
   ]
  },
  {
   "cell_type": "code",
   "execution_count": 28,
   "metadata": {},
   "outputs": [
    {
     "data": {
      "text/html": [
       "<div>\n",
       "<style scoped>\n",
       "    .dataframe tbody tr th:only-of-type {\n",
       "        vertical-align: middle;\n",
       "    }\n",
       "\n",
       "    .dataframe tbody tr th {\n",
       "        vertical-align: top;\n",
       "    }\n",
       "\n",
       "    .dataframe thead th {\n",
       "        text-align: right;\n",
       "    }\n",
       "</style>\n",
       "<table border=\"1\" class=\"dataframe\">\n",
       "  <thead>\n",
       "    <tr style=\"text-align: right;\">\n",
       "      <th></th>\n",
       "      <th>BITCOIN</th>\n",
       "    </tr>\n",
       "    <tr>\n",
       "      <th>date</th>\n",
       "      <th></th>\n",
       "    </tr>\n",
       "  </thead>\n",
       "  <tbody>\n",
       "    <tr>\n",
       "      <th>2023-09-25</th>\n",
       "      <td>0.73757</td>\n",
       "    </tr>\n",
       "  </tbody>\n",
       "</table>\n",
       "</div>"
      ],
      "text/plain": [
       "            BITCOIN\n",
       "date               \n",
       "2023-09-25  0.73757"
      ]
     },
     "execution_count": 28,
     "metadata": {},
     "output_type": "execute_result"
    }
   ],
   "source": [
    "# et la vol était de:\n",
    "\n",
    "current_vol = volatility[\n",
    "    volatility.index == rebalancing_high_risk[6]\n",
    "]\n",
    "current_vol"
   ]
  },
  {
   "cell_type": "code",
   "execution_count": 29,
   "metadata": {},
   "outputs": [
    {
     "data": {
      "image/png": "[encoded data removed]",
      "text/plain": [
       "<Figure size 1100x400 with 1 Axes>"
      ]
     },
     "metadata": {},
     "output_type": "display_data"
    }
   ],
   "source": [
    "cap = 100/100\n",
    "floor = 0/100\n",
    "\n",
    "# la target vol doit être renseignée\n",
    "\n",
    "target_vol = 55/100\n",
    "\n",
    "vol_riskless = 5/100\n",
    "vol_risky = current_vol[\"BITCOIN\"].iloc[0]\n",
    "\n",
    "target_weight = np.minimum(np.maximum((target_vol - vol_riskless)/(vol_risky - vol_riskless), floor), cap)\n",
    "\n",
    "weight = np.array([0/100, 100/100])\n",
    "vol = np.array([vol_riskless, vol_risky])\n",
    "\n",
    "plt.hlines(y=target_vol*100, xmin=0.0, xmax=target_weight*100, linestyle='--', color=\"blue\")\n",
    "plt.vlines(x=target_weight*100, ymin=0.0, ymax=target_vol*100, linestyle='--', color=\"blue\")\n",
    "plt.plot(weight*100, vol*100, \"o-\", color=\"red\")\n",
    "plt.xlabel(\"weight (%)\")\n",
    "plt.ylabel(\"volatility (%)\")\n",
    "plt.show()"
   ]
  },
  {
   "cell_type": "code",
   "execution_count": 30,
   "metadata": {},
   "outputs": [
    {
     "name": "stdout",
     "output_type": "stream",
     "text": [
      "72.72\n"
     ]
    }
   ],
   "source": [
    "# on doit récupérer ce poids (risky allocation) pour le bon niveau de vol target\n",
    "\n",
    "print(np.round(target_weight*100, 2))"
   ]
  },
  {
   "cell_type": "markdown",
   "metadata": {},
   "source": [
    " "
   ]
  },
  {
   "cell_type": "markdown",
   "metadata": {},
   "source": [
    " "
   ]
  },
  {
   "cell_type": "markdown",
   "metadata": {},
   "source": [
    " "
   ]
  }
 ],
 "metadata": {
  "kernelspec": {
   "display_name": "Python 3 (ipykernel)",
   "language": "python",
   "name": "python3"
  },
  "language_info": {
   "codemirror_mode": {
    "name": "ipython",
    "version": 3
   },
   "file_extension": ".py",
   "mimetype": "text/x-python",
   "name": "python",
   "nbconvert_exporter": "python",
   "pygments_lexer": "ipython3",
   "version": "3.10.15"
  }
 },
 "nbformat": 4,
 "nbformat_minor": 2
}
